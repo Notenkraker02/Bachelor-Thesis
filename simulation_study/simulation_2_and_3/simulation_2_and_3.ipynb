{
 "cells": [
  {
   "cell_type": "code",
   "execution_count": 1,
   "metadata": {},
   "outputs": [
    {
     "data": {
      "application/vnd.jupyter.widget-view+json": {
       "model_id": "fd5dbf9ae9184f76b73baa024c368808",
       "version_major": 2,
       "version_minor": 0
      },
      "text/plain": [
       "  0%|          | 0/50 [00:00<?, ?it/s]"
      ]
     },
     "metadata": {},
     "output_type": "display_data"
    },
    {
     "name": "stdout",
     "output_type": "stream",
     "text": [
      "LocalLinearForest {'n_estimators': 300, 'max_depth': 6, 'min_samples_split': 8, 'min_samples_leaf': 5, 'lam': 0.1}\n"
     ]
    },
    {
     "data": {
      "application/vnd.jupyter.widget-view+json": {
       "model_id": "e42c65defb4e4e0ba0f7c52063f63087",
       "version_major": 2,
       "version_minor": 0
      },
      "text/plain": [
       "  0%|          | 0/50 [00:00<?, ?it/s]"
      ]
     },
     "metadata": {},
     "output_type": "display_data"
    },
    {
     "name": "stdout",
     "output_type": "stream",
     "text": [
      "RandomForest {'n_estimators': 300, 'max_depth': 5, 'min_samples_split': 4, 'min_samples_leaf': 3}\n"
     ]
    },
    {
     "data": {
      "application/vnd.jupyter.widget-view+json": {
       "model_id": "40609ec0616d415386293009a2f284c0",
       "version_major": 2,
       "version_minor": 0
      },
      "text/plain": [
       "  0%|          | 0/50 [00:00<?, ?it/s]"
      ]
     },
     "metadata": {},
     "output_type": "display_data"
    },
    {
     "name": "stdout",
     "output_type": "stream",
     "text": [
      "LASSO-RF {'lasso_alpha': 0.09593620445207987, 'n_estimators': 300, 'max_depth': 9, 'min_samples_split': 5, 'min_samples_leaf': 4}\n"
     ]
    },
    {
     "data": {
      "application/vnd.jupyter.widget-view+json": {
       "model_id": "4e1c0a54cc59432fb2a4f6964c5de969",
       "version_major": 2,
       "version_minor": 0
      },
      "text/plain": [
       "  0%|          | 0/50 [00:00<?, ?it/s]"
      ]
     },
     "metadata": {},
     "output_type": "display_data"
    },
    {
     "name": "stdout",
     "output_type": "stream",
     "text": [
      "XGBoost {'n_estimators': 100, 'max_depth': 7, 'learning_rate': 0.522250733262016}\n"
     ]
    },
    {
     "data": {
      "application/vnd.jupyter.widget-view+json": {
       "model_id": "b5a33ef0020348de877677e8d5a8d6f4",
       "version_major": 2,
       "version_minor": 0
      },
      "text/plain": [
       "  0%|          | 0/3 [00:00<?, ?it/s]"
      ]
     },
     "metadata": {},
     "output_type": "display_data"
    },
    {
     "name": "stdout",
     "output_type": "stream",
     "text": [
      "BART {'n_chains': 4, 'n_trees': 100, 'n_burn': 300, 'n_samples': 500}\n"
     ]
    },
    {
     "data": {
      "application/vnd.jupyter.widget-view+json": {
       "model_id": "cea8916575df40f68f5b9fa5deb9d2b2",
       "version_major": 2,
       "version_minor": 0
      },
      "text/plain": [
       "  0%|          | 0/12 [00:00<?, ?it/s]"
      ]
     },
     "metadata": {},
     "output_type": "display_data"
    },
    {
     "name": "stdout",
     "output_type": "stream",
     "text": [
      "(1000, 10, 5)\n"
     ]
    },
    {
     "data": {
      "application/vnd.jupyter.widget-view+json": {
       "model_id": "7048591b457f4269ba9011ee749fa32f",
       "version_major": 2,
       "version_minor": 0
      },
      "text/plain": [
       "  0%|          | 0/5 [00:00<?, ?it/s]"
      ]
     },
     "metadata": {},
     "output_type": "display_data"
    },
    {
     "name": "stdout",
     "output_type": "stream",
     "text": [
      "[2.133, 2.227, 1.791, 1.865, 3.376]\n",
      "(1000, 10, 20)\n"
     ]
    },
    {
     "data": {
      "application/vnd.jupyter.widget-view+json": {
       "model_id": "7b8130fbd18a41159eff27e76c1d63c9",
       "version_major": 2,
       "version_minor": 0
      },
      "text/plain": [
       "  0%|          | 0/5 [00:00<?, ?it/s]"
      ]
     },
     "metadata": {},
     "output_type": "display_data"
    },
    {
     "name": "stdout",
     "output_type": "stream",
     "text": [
      "[3.509, 3.704, 4.813, 4.104, 12.257]\n",
      "(1000, 30, 5)\n"
     ]
    },
    {
     "data": {
      "application/vnd.jupyter.widget-view+json": {
       "model_id": "99c8178d338545ba858cf7673ccfd3e9",
       "version_major": 2,
       "version_minor": 0
      },
      "text/plain": [
       "  0%|          | 0/5 [00:00<?, ?it/s]"
      ]
     },
     "metadata": {},
     "output_type": "display_data"
    },
    {
     "name": "stdout",
     "output_type": "stream",
     "text": [
      "[2.472, 2.394, 2.095, 2.461, 3.622]\n",
      "(1000, 30, 20)\n"
     ]
    },
    {
     "data": {
      "application/vnd.jupyter.widget-view+json": {
       "model_id": "7330171c0ded45a5a8eb7e85305e8b92",
       "version_major": 2,
       "version_minor": 0
      },
      "text/plain": [
       "  0%|          | 0/5 [00:00<?, ?it/s]"
      ]
     },
     "metadata": {},
     "output_type": "display_data"
    },
    {
     "name": "stdout",
     "output_type": "stream",
     "text": [
      "[4.027, 4.052, 4.609, 4.648, 11.689]\n",
      "(1000, 50, 5)\n"
     ]
    },
    {
     "data": {
      "application/vnd.jupyter.widget-view+json": {
       "model_id": "10806d1c0d4f4b3bbbffd7abff73b956",
       "version_major": 2,
       "version_minor": 0
      },
      "text/plain": [
       "  0%|          | 0/5 [00:00<?, ?it/s]"
      ]
     },
     "metadata": {},
     "output_type": "display_data"
    },
    {
     "name": "stdout",
     "output_type": "stream",
     "text": [
      "[2.653, 2.47, 2.173, 3.017, 3.703]\n",
      "(1000, 50, 20)\n"
     ]
    },
    {
     "data": {
      "application/vnd.jupyter.widget-view+json": {
       "model_id": "21d53285da4b46a2bec21d3658881c1b",
       "version_major": 2,
       "version_minor": 0
      },
      "text/plain": [
       "  0%|          | 0/5 [00:00<?, ?it/s]"
      ]
     },
     "metadata": {},
     "output_type": "display_data"
    },
    {
     "name": "stdout",
     "output_type": "stream",
     "text": [
      "[4.103, 3.628, 5.453, 4.84, 11.708]\n",
      "(5000, 10, 5)\n"
     ]
    },
    {
     "data": {
      "application/vnd.jupyter.widget-view+json": {
       "model_id": "0d2f0ea60ce54426886a523e91165302",
       "version_major": 2,
       "version_minor": 0
      },
      "text/plain": [
       "  0%|          | 0/5 [00:00<?, ?it/s]"
      ]
     },
     "metadata": {},
     "output_type": "display_data"
    },
    {
     "name": "stdout",
     "output_type": "stream",
     "text": [
      "[1.79, 2.091, 1.282, 1.552, 3.171]\n",
      "(5000, 10, 20)\n"
     ]
    },
    {
     "data": {
      "application/vnd.jupyter.widget-view+json": {
       "model_id": "136c434d08df4dbbadb32aa1ddf2f8b5",
       "version_major": 2,
       "version_minor": 0
      },
      "text/plain": [
       "  0%|          | 0/5 [00:00<?, ?it/s]"
      ]
     },
     "metadata": {},
     "output_type": "display_data"
    },
    {
     "name": "stdout",
     "output_type": "stream",
     "text": [
      "[2.409, 2.515, 2.903, 2.399, 12.215]\n",
      "(5000, 30, 5)\n"
     ]
    },
    {
     "data": {
      "application/vnd.jupyter.widget-view+json": {
       "model_id": "6bb2e5d98bb547abbdf925d530e3c996",
       "version_major": 2,
       "version_minor": 0
      },
      "text/plain": [
       "  0%|          | 0/5 [00:00<?, ?it/s]"
      ]
     },
     "metadata": {},
     "output_type": "display_data"
    },
    {
     "name": "stdout",
     "output_type": "stream",
     "text": [
      "[2.012, 2.171, 1.365, 1.987, 3.177]\n",
      "(5000, 30, 20)\n"
     ]
    },
    {
     "data": {
      "application/vnd.jupyter.widget-view+json": {
       "model_id": "9767aa0e45cd4c4480202a1bb2181f54",
       "version_major": 2,
       "version_minor": 0
      },
      "text/plain": [
       "  0%|          | 0/5 [00:00<?, ?it/s]"
      ]
     },
     "metadata": {},
     "output_type": "display_data"
    },
    {
     "name": "stdout",
     "output_type": "stream",
     "text": [
      "[2.855, 2.767, 3.01, 3.189, 11.97]\n",
      "(5000, 50, 5)\n"
     ]
    },
    {
     "data": {
      "application/vnd.jupyter.widget-view+json": {
       "model_id": "2372a74e7bc14def91f4a70e74330110",
       "version_major": 2,
       "version_minor": 0
      },
      "text/plain": [
       "  0%|          | 0/5 [00:00<?, ?it/s]"
      ]
     },
     "metadata": {},
     "output_type": "display_data"
    },
    {
     "name": "stdout",
     "output_type": "stream",
     "text": [
      "[2.021, 2.106, 1.368, 2.213, 3.286]\n",
      "(5000, 50, 20)\n"
     ]
    },
    {
     "data": {
      "application/vnd.jupyter.widget-view+json": {
       "model_id": "134777f1ebeb474f93bdc8d99c906885",
       "version_major": 2,
       "version_minor": 0
      },
      "text/plain": [
       "  0%|          | 0/5 [00:00<?, ?it/s]"
      ]
     },
     "metadata": {},
     "output_type": "display_data"
    },
    {
     "name": "stdout",
     "output_type": "stream",
     "text": [
      "[3.003, 2.705, 3.029, 3.531, 11.807]\n",
      "Mean RMSE:  [[ 2.133  2.227  1.791  1.865  3.376]\n",
      " [ 3.509  3.704  4.813  4.104 12.257]\n",
      " [ 2.472  2.394  2.095  2.461  3.622]\n",
      " [ 4.027  4.052  4.609  4.648 11.689]\n",
      " [ 2.653  2.47   2.173  3.017  3.703]\n",
      " [ 4.103  3.628  5.453  4.84  11.708]\n",
      " [ 1.79   2.091  1.282  1.552  3.171]\n",
      " [ 2.409  2.515  2.903  2.399 12.215]\n",
      " [ 2.012  2.171  1.365  1.987  3.177]\n",
      " [ 2.855  2.767  3.01   3.189 11.97 ]\n",
      " [ 2.021  2.106  1.368  2.213  3.286]\n",
      " [ 3.003  2.705  3.029  3.531 11.807]]\n"
     ]
    }
   ],
   "source": [
    "import os\n",
    "import sys\n",
    "import numpy as np\n",
    "from sklearn.metrics import mean_squared_error\n",
    "from tqdm.auto import tqdm\n",
    "current_dir = os.path.dirname(r\"C:\\Users\\JNoot\\Documents\\University\\Bachelor Thesis\\New Code\\simulation_study\\simulation_2_and_3\")\n",
    "parent_dir = os.path.abspath(os.path.join(current_dir, os.pardir))\n",
    "sys.path.insert(0, parent_dir)\n",
    "sys.path.append(os.path.dirname(os.path.abspath(r\"C:\\Users\\JNoot\\Documents\\University\\Bachelor Thesis\\New Code\\simulation_study\\simulation_2_and_3\\simulation_2_and_3.ipynb\")) + '/..')\n",
    "from simulation_study.models.random_forest import train_test_rf\n",
    "from simulation_study.models.lasso_rf import LassoRandomForest\n",
    "from simulation_study.models.local_linear_forest import LocalLinearForestRegressor\n",
    "from simulation_study.models.bart import predict_bart\n",
    "from simulation_study.models.xgboost import predict_xgboost\n",
    "from simulation_study.hypertuning.hypertune import hypertune_model\n",
    "\n",
    "def friedman(x):\n",
    "    return 10 * np.sin(np.pi * x[0] * x[1]) + 20 * ((x[3] - 0.5) ** 2) + 10 * x[4] + 5 * x[5]\n",
    "\n",
    "def smoothness(x):\n",
    "    return np.log(1 + np.exp(6 * x[0]))\n",
    "\n",
    "def get_parameters(function, tuning_size, n_trials, sigma, p):\n",
    "    X_tune = np.random.rand(tuning_size,p)\n",
    "    Y_tune = np.apply_along_axis(function, 1, X_tune) + sigma * np.random.normal(size=tuning_size)\n",
    "    LLF_parameters = hypertune_model(\"LocalLinearForest\", X_tune, Y_tune, n_trials = n_trials)\n",
    "    RF_parameters = hypertune_model(\"RandomForest\", X_tune, Y_tune, n_trials = n_trials)\n",
    "    LRF_parameters = hypertune_model(\"LASSO-RF\", X_tune, Y_tune, n_trials = n_trials)\n",
    "    XGB_parameters = hypertune_model(\"XGBoost\", X_tune, Y_tune, n_trials = n_trials)\n",
    "    BART_parameters = hypertune_model(\"BART\", X_tune, Y_tune, n_trials = 3)\n",
    "    parameters = {\"LLF\": LLF_parameters, \"RF\": RF_parameters, \"LRF\" : LRF_parameters, \n",
    "                   \"XGB\": XGB_parameters, \"BART\": BART_parameters}\n",
    "    return parameters\n",
    "\n",
    "def simulation_run(function, n, p, sigma, num_reps=50, num_test = 1000, parameters = None):\n",
    "    errors_list = []\n",
    "    \n",
    "    for _ in tqdm(range(num_reps)):\n",
    "      #Simulate\n",
    "      X_train = np.random.rand(n, p)\n",
    "      Y_train = np.apply_along_axis(function, 1, X_train) + sigma * np.random.normal(size=n)\n",
    "      X_test = np.random.rand(num_test, p)\n",
    "      truth = np.apply_along_axis(function, 1, X_test)\n",
    "\n",
    "      #Random Forest\n",
    "      RF_predictions = train_test_rf(X_train, Y_train, X_test, **parameters[\"RF\"])\n",
    "      RF_mse = mean_squared_error(truth, RF_predictions)\n",
    "\n",
    "      #Lasso Random Forest\n",
    "      LRF = LassoRandomForest(**parameters[\"LRF\"])  \n",
    "      LRF.fit(X_train, Y_train)\n",
    "      LRF_preds = LRF.predict(X_test)\n",
    "      LRF_mse = mean_squared_error(truth, LRF_preds)\n",
    "\n",
    "      #Local Linear Forest\n",
    "      LLF = LocalLinearForestRegressor(**parameters[\"LLF\"])\n",
    "      LLF.fit(X_train, Y_train)\n",
    "      LLF_predictions = LLF.predict_LLF(X_test)\n",
    "      LLF_mse = mean_squared_error(truth, LLF_predictions)\n",
    "\n",
    "      #Bayesian Additive Regression Trees\n",
    "      BART_predictions = predict_bart(X_train, Y_train, X_test, **parameters[\"BART\"])\n",
    "      BART_mse = mean_squared_error(truth, BART_predictions)\n",
    "\n",
    "      #XGBoost\n",
    "      XG_predictions = predict_xgboost(X_train, Y_train, X_test, **parameters[\"XGB\"])\n",
    "      XG_mse = mean_squared_error(truth, XG_predictions)\n",
    "\n",
    "      #Errors\n",
    "      errors = {\n",
    "        \"LLF\": LLF_mse,\n",
    "        \"RF\": RF_mse,\n",
    "        \"Lasso RF\": LRF_mse,\n",
    "        \"BART\": BART_mse,\n",
    "        \"XGBoost\": XG_mse\n",
    "      }\n",
    "      errors_list.append(errors)\n",
    "\n",
    "    mean_errors = {model: np.mean([errors[model] for errors in errors_list]) for model in errors_list[0]}\n",
    "    return mean_errors\n",
    "\n",
    "efficient_run = True\n",
    "num_reps = 5\n",
    "func = \"friedman\"\n",
    "\n",
    "if func == \"friedman\":\n",
    "  function = friedman\n",
    "  ps = [10,30,50]\n",
    "  ns = [1000, 5000]\n",
    "  sigmas = [5, 20]\n",
    "\n",
    "  if efficient_run:\n",
    "      sigmas = [5]\n",
    "\n",
    "if func == \"smoothness\":\n",
    "  function = smoothness\n",
    "  ps = [5,20]\n",
    "  ns = [1000, 5000]\n",
    "  sigmas = [0.1,1,2]\n",
    "\n",
    "  if efficient_run:\n",
    "    sigmas = [1, 2]\n",
    "\n",
    "args = [(n, p, sigma) for n in ns for p in ps for sigma in sigmas]\n",
    "mses_results = []\n",
    "qlikes_results = []\n",
    "model_parameters = get_parameters(function, tuning_size = 1000, n_trials = 50, sigma = 20, p =50)\n",
    "for arguments in tqdm(args):\n",
    "    print(arguments)\n",
    "    mses= simulation_run(function, *arguments, num_reps, num_test = 1000, parameters = model_parameters)\n",
    "    mses_results.append([*np.round(np.sqrt(list(mses.values())), 3)])\n",
    "    print([*np.round(np.sqrt(list(mses.values())), 3)])\n",
    "\n",
    "mses_results = np.array(mses_results)\n",
    "print(\"Mean RMSE: \", mses_results)"
   ]
  }
 ],
 "metadata": {
  "kernelspec": {
   "display_name": ".venv",
   "language": "python",
   "name": "python3"
  },
  "language_info": {
   "codemirror_mode": {
    "name": "ipython",
    "version": 3
   },
   "file_extension": ".py",
   "mimetype": "text/x-python",
   "name": "python",
   "nbconvert_exporter": "python",
   "pygments_lexer": "ipython3",
   "version": "3.12.2"
  }
 },
 "nbformat": 4,
 "nbformat_minor": 2
}

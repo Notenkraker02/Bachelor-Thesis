{
 "cells": [
  {
   "cell_type": "code",
   "execution_count": 1,
   "metadata": {},
   "outputs": [
    {
     "data": {
      "application/vnd.jupyter.widget-view+json": {
       "model_id": "06336cb0abc84580be555e6ea4fe4093",
       "version_major": 2,
       "version_minor": 0
      },
      "text/plain": [
       "  0%|          | 0/18 [00:00<?, ?it/s]"
      ]
     },
     "metadata": {},
     "output_type": "display_data"
    },
    {
     "name": "stdout",
     "output_type": "stream",
     "text": [
      "(1000, 0, 1)\n"
     ]
    },
    {
     "data": {
      "application/vnd.jupyter.widget-view+json": {
       "model_id": "900921f6441a49c4bcf7c8fea8e87f8a",
       "version_major": 2,
       "version_minor": 0
      },
      "text/plain": [
       "  0%|          | 0/5 [00:00<?, ?it/s]"
      ]
     },
     "metadata": {},
     "output_type": "display_data"
    },
    {
     "name": "stdout",
     "output_type": "stream",
     "text": [
      "LocalLinearForest {'n_estimators': 400, 'max_depth': 6, 'min_samples_split': 8, 'min_samples_leaf': 5, 'lam': 0.01}\n"
     ]
    },
    {
     "data": {
      "application/vnd.jupyter.widget-view+json": {
       "model_id": "51be0ce73665409ca84809c2d7e9722e",
       "version_major": 2,
       "version_minor": 0
      },
      "text/plain": [
       "  0%|          | 0/5 [00:00<?, ?it/s]"
      ]
     },
     "metadata": {},
     "output_type": "display_data"
    },
    {
     "name": "stdout",
     "output_type": "stream",
     "text": [
      "RandomForest {'n_estimators': 400, 'max_depth': 10, 'min_samples_split': 9, 'min_samples_leaf': 5}\n"
     ]
    },
    {
     "data": {
      "application/vnd.jupyter.widget-view+json": {
       "model_id": "e74c50faa1af41eaacbe0258e6377803",
       "version_major": 2,
       "version_minor": 0
      },
      "text/plain": [
       "  0%|          | 0/5 [00:00<?, ?it/s]"
      ]
     },
     "metadata": {},
     "output_type": "display_data"
    },
    {
     "name": "stdout",
     "output_type": "stream",
     "text": [
      "LASSO-RF {'lasso_alpha': 0.08873269875058457, 'n_estimators': 500, 'max_depth': 9, 'min_samples_split': 5, 'min_samples_leaf': 4}\n"
     ]
    },
    {
     "data": {
      "application/vnd.jupyter.widget-view+json": {
       "model_id": "298172850d3344ff977f1349fecb39e9",
       "version_major": 2,
       "version_minor": 0
      },
      "text/plain": [
       "  0%|          | 0/5 [00:00<?, ?it/s]"
      ]
     },
     "metadata": {},
     "output_type": "display_data"
    },
    {
     "name": "stdout",
     "output_type": "stream",
     "text": [
      "XGBoost {'n_estimators': 500, 'max_depth': 10, 'learning_rate': 0.6000009234091146}\n"
     ]
    },
    {
     "data": {
      "application/vnd.jupyter.widget-view+json": {
       "model_id": "d3a612f50ea04908a0d24e38b600bf27",
       "version_major": 2,
       "version_minor": 0
      },
      "text/plain": [
       "  0%|          | 0/1 [00:00<?, ?it/s]"
      ]
     },
     "metadata": {},
     "output_type": "display_data"
    },
    {
     "name": "stdout",
     "output_type": "stream",
     "text": [
      "BART {'n_chains': 3, 'n_trees': 200, 'n_burn': 100, 'n_samples': 1000}\n"
     ]
    },
    {
     "data": {
      "application/vnd.jupyter.widget-view+json": {
       "model_id": "f139cb45363e4bf983b2f5b54d01613b",
       "version_major": 2,
       "version_minor": 0
      },
      "text/plain": [
       "  0%|          | 0/1 [00:00<?, ?it/s]"
      ]
     },
     "metadata": {},
     "output_type": "display_data"
    },
    {
     "name": "stdout",
     "output_type": "stream",
     "text": [
      "[0.14, 0.012, 0.002, 0.033, 0.029]\n",
      "(1000, 0, 5)\n"
     ]
    },
    {
     "data": {
      "application/vnd.jupyter.widget-view+json": {
       "model_id": "27123480d5da4800ad6af10b1db8fec1",
       "version_major": 2,
       "version_minor": 0
      },
      "text/plain": [
       "  0%|          | 0/5 [00:00<?, ?it/s]"
      ]
     },
     "metadata": {},
     "output_type": "display_data"
    },
    {
     "name": "stdout",
     "output_type": "stream",
     "text": [
      "LocalLinearForest {'n_estimators': 300, 'max_depth': 8, 'min_samples_split': 6, 'min_samples_leaf': 2, 'lam': 0.5}\n"
     ]
    },
    {
     "data": {
      "application/vnd.jupyter.widget-view+json": {
       "model_id": "162c7a8803b642a4a48a9b7d8f40587f",
       "version_major": 2,
       "version_minor": 0
      },
      "text/plain": [
       "  0%|          | 0/5 [00:00<?, ?it/s]"
      ]
     },
     "metadata": {},
     "output_type": "display_data"
    },
    {
     "name": "stdout",
     "output_type": "stream",
     "text": [
      "RandomForest {'n_estimators': 300, 'max_depth': 8, 'min_samples_split': 8, 'min_samples_leaf': 2}\n"
     ]
    },
    {
     "data": {
      "application/vnd.jupyter.widget-view+json": {
       "model_id": "f3cc468c6f44420286f806bd4f5e1174",
       "version_major": 2,
       "version_minor": 0
      },
      "text/plain": [
       "  0%|          | 0/5 [00:00<?, ?it/s]"
      ]
     },
     "metadata": {},
     "output_type": "display_data"
    },
    {
     "name": "stdout",
     "output_type": "stream",
     "text": [
      "LASSO-RF {'lasso_alpha': 0.008478614670010987, 'n_estimators': 500, 'max_depth': 8, 'min_samples_split': 6, 'min_samples_leaf': 4}\n"
     ]
    },
    {
     "data": {
      "application/vnd.jupyter.widget-view+json": {
       "model_id": "4eb42ab471d14b80962e2f6d5f370210",
       "version_major": 2,
       "version_minor": 0
      },
      "text/plain": [
       "  0%|          | 0/5 [00:00<?, ?it/s]"
      ]
     },
     "metadata": {},
     "output_type": "display_data"
    },
    {
     "name": "stdout",
     "output_type": "stream",
     "text": [
      "XGBoost {'n_estimators': 200, 'max_depth': 5, 'learning_rate': 0.5865908400126876}\n"
     ]
    },
    {
     "data": {
      "application/vnd.jupyter.widget-view+json": {
       "model_id": "2dbf12e4a0234e2fbf98a4298f016735",
       "version_major": 2,
       "version_minor": 0
      },
      "text/plain": [
       "  0%|          | 0/1 [00:00<?, ?it/s]"
      ]
     },
     "metadata": {},
     "output_type": "display_data"
    },
    {
     "name": "stdout",
     "output_type": "stream",
     "text": [
      "BART {'n_chains': 3, 'n_trees': 100, 'n_burn': 300, 'n_samples': 1000}\n"
     ]
    },
    {
     "data": {
      "application/vnd.jupyter.widget-view+json": {
       "model_id": "3a60483b61734b17aa007316dcb71329",
       "version_major": 2,
       "version_minor": 0
      },
      "text/plain": [
       "  0%|          | 0/1 [00:00<?, ?it/s]"
      ]
     },
     "metadata": {},
     "output_type": "display_data"
    },
    {
     "name": "stdout",
     "output_type": "stream",
     "text": [
      "[0.297, 0.063, 0.15, 0.091, 0.013]\n",
      "(1000, 0, 10)\n"
     ]
    },
    {
     "data": {
      "application/vnd.jupyter.widget-view+json": {
       "model_id": "6b5821ebf7ea47a0af223da691ad7a3c",
       "version_major": 2,
       "version_minor": 0
      },
      "text/plain": [
       "  0%|          | 0/5 [00:00<?, ?it/s]"
      ]
     },
     "metadata": {},
     "output_type": "display_data"
    },
    {
     "name": "stdout",
     "output_type": "stream",
     "text": [
      "LocalLinearForest {'n_estimators': 400, 'max_depth': 10, 'min_samples_split': 9, 'min_samples_leaf': 3, 'lam': 1}\n"
     ]
    },
    {
     "data": {
      "application/vnd.jupyter.widget-view+json": {
       "model_id": "4ef62f857536490c95b2c7159ae6783a",
       "version_major": 2,
       "version_minor": 0
      },
      "text/plain": [
       "  0%|          | 0/5 [00:00<?, ?it/s]"
      ]
     },
     "metadata": {},
     "output_type": "display_data"
    },
    {
     "name": "stdout",
     "output_type": "stream",
     "text": [
      "RandomForest {'n_estimators': 300, 'max_depth': 10, 'min_samples_split': 8, 'min_samples_leaf': 2}\n"
     ]
    },
    {
     "data": {
      "application/vnd.jupyter.widget-view+json": {
       "model_id": "0b9d2a2ffb6e4fceac6ac74a81b26ba4",
       "version_major": 2,
       "version_minor": 0
      },
      "text/plain": [
       "  0%|          | 0/5 [00:00<?, ?it/s]"
      ]
     },
     "metadata": {},
     "output_type": "display_data"
    },
    {
     "name": "stdout",
     "output_type": "stream",
     "text": [
      "LASSO-RF {'lasso_alpha': 0.06125572845458644, 'n_estimators': 300, 'max_depth': 9, 'min_samples_split': 10, 'min_samples_leaf': 3}\n"
     ]
    },
    {
     "data": {
      "application/vnd.jupyter.widget-view+json": {
       "model_id": "2faa1a6174ce4a17b763733248110067",
       "version_major": 2,
       "version_minor": 0
      },
      "text/plain": [
       "  0%|          | 0/5 [00:00<?, ?it/s]"
      ]
     },
     "metadata": {},
     "output_type": "display_data"
    },
    {
     "name": "stdout",
     "output_type": "stream",
     "text": [
      "XGBoost {'n_estimators': 200, 'max_depth': 9, 'learning_rate': 0.620207008639465}\n"
     ]
    },
    {
     "data": {
      "application/vnd.jupyter.widget-view+json": {
       "model_id": "5b358e9a12db406d9ac2310dff4fbfc8",
       "version_major": 2,
       "version_minor": 0
      },
      "text/plain": [
       "  0%|          | 0/1 [00:00<?, ?it/s]"
      ]
     },
     "metadata": {},
     "output_type": "display_data"
    },
    {
     "name": "stdout",
     "output_type": "stream",
     "text": [
      "BART {'n_chains': 3, 'n_trees': 100, 'n_burn': 200, 'n_samples': 1000}\n"
     ]
    },
    {
     "data": {
      "application/vnd.jupyter.widget-view+json": {
       "model_id": "5a36cb47bb6048d0b15bc8fb4741a318",
       "version_major": 2,
       "version_minor": 0
      },
      "text/plain": [
       "  0%|          | 0/1 [00:00<?, ?it/s]"
      ]
     },
     "metadata": {},
     "output_type": "display_data"
    },
    {
     "name": "stdout",
     "output_type": "stream",
     "text": [
      "[0.043, 0.367, 0.246, 0.249, 0.3]\n",
      "(1000, 5, 1)\n"
     ]
    },
    {
     "data": {
      "application/vnd.jupyter.widget-view+json": {
       "model_id": "72e98bdd43fe4d68b6ce67b2c00c68cd",
       "version_major": 2,
       "version_minor": 0
      },
      "text/plain": [
       "  0%|          | 0/5 [00:00<?, ?it/s]"
      ]
     },
     "metadata": {},
     "output_type": "display_data"
    },
    {
     "name": "stdout",
     "output_type": "stream",
     "text": [
      "LocalLinearForest {'n_estimators': 500, 'max_depth': 10, 'min_samples_split': 8, 'min_samples_leaf': 2, 'lam': 0.5}\n"
     ]
    },
    {
     "data": {
      "application/vnd.jupyter.widget-view+json": {
       "model_id": "edf5e6d87a1e464fa17f7b1ca0669719",
       "version_major": 2,
       "version_minor": 0
      },
      "text/plain": [
       "  0%|          | 0/5 [00:00<?, ?it/s]"
      ]
     },
     "metadata": {},
     "output_type": "display_data"
    },
    {
     "name": "stdout",
     "output_type": "stream",
     "text": [
      "RandomForest {'n_estimators': 300, 'max_depth': 10, 'min_samples_split': 9, 'min_samples_leaf': 4}\n"
     ]
    },
    {
     "data": {
      "application/vnd.jupyter.widget-view+json": {
       "model_id": "7782d0344bf04269bf93c4c60f3495bc",
       "version_major": 2,
       "version_minor": 0
      },
      "text/plain": [
       "  0%|          | 0/5 [00:00<?, ?it/s]"
      ]
     },
     "metadata": {},
     "output_type": "display_data"
    },
    {
     "name": "stdout",
     "output_type": "stream",
     "text": [
      "LASSO-RF {'lasso_alpha': 0.0710398962299576, 'n_estimators': 200, 'max_depth': 7, 'min_samples_split': 8, 'min_samples_leaf': 2}\n"
     ]
    },
    {
     "data": {
      "application/vnd.jupyter.widget-view+json": {
       "model_id": "819b4386131c47afbb8b89a2c6f3fefa",
       "version_major": 2,
       "version_minor": 0
      },
      "text/plain": [
       "  0%|          | 0/5 [00:00<?, ?it/s]"
      ]
     },
     "metadata": {},
     "output_type": "display_data"
    },
    {
     "name": "stdout",
     "output_type": "stream",
     "text": [
      "XGBoost {'n_estimators': 100, 'max_depth': 10, 'learning_rate': 0.6043682799233856}\n"
     ]
    },
    {
     "data": {
      "application/vnd.jupyter.widget-view+json": {
       "model_id": "af7ef83ce62b409f84aa9ecf80a4fc15",
       "version_major": 2,
       "version_minor": 0
      },
      "text/plain": [
       "  0%|          | 0/1 [00:00<?, ?it/s]"
      ]
     },
     "metadata": {},
     "output_type": "display_data"
    }
   ],
   "source": [
    "import os\n",
    "import sys\n",
    "import numpy as np\n",
    "from sklearn.metrics import mean_squared_error\n",
    "from tqdm.auto import tqdm\n",
    "current_dir = os.path.dirname(r\"C:\\Users\\JNoot\\Documents\\University\\Bachelor Thesis\\New Code\\simulation_study\\simulation_1\")\n",
    "parent_dir = os.path.abspath(os.path.join(current_dir, os.pardir))\n",
    "sys.path.insert(0, parent_dir)\n",
    "sys.path.append(os.path.dirname(os.path.abspath(r\"C:\\Users\\JNoot\\Documents\\University\\Bachelor Thesis\\New Code\\simulation_study\\simulation_1\\simulation_1.ipynb\")) + '/..')\n",
    "from simulation_study.models.random_forest import train_test_rf\n",
    "from simulation_study.models.local_linear_forest import LocalLinearForestRegressor\n",
    "from simulation_study.models.bart import predict_bart\n",
    "from simulation_study.models.xgboost import predict_xgboost\n",
    "from simulation_study.models.lasso_rf import LassoRandomForest\n",
    "from simulation_study.hypertuning.hypertune import hypertune_model\n",
    "from simulation_study.utils.qlike import get_qlike\n",
    "\n",
    "def generate_GJR(n,omega, alpha, gamma, beta, mu, sigma):\n",
    "  # Simulate GJR-GARCH(1,1) process\n",
    "  np.random.seed()\n",
    "  residuals = np.random.normal(scale=sigma, size=n)\n",
    "  volatility = np.zeros(n)\n",
    "  returns = np.zeros(n)\n",
    "\n",
    "  # Initial volatility\n",
    "  volatility[0] = np.sqrt(omega / (1 - alpha - gamma / 2 - beta))\n",
    "\n",
    "  for t in range(1, n):\n",
    "      # GJR-GARCH process\n",
    "      indicator = (residuals[t-1] < 0).astype(float)\n",
    "      volatility[t] = np.sqrt(omega + (alpha + gamma * indicator) * (residuals[t-1] ** 2) + beta * (volatility[t-1] ** 2))\n",
    "\n",
    "      # Generate returns\n",
    "      returns[t] = mu + volatility[t] * residuals[t]\n",
    "\n",
    "  return returns, volatility\n",
    "\n",
    "# Generate lagged features for forecasting\n",
    "def create_lagged_features(data, lag=1):\n",
    "    lagged_data = np.column_stack([np.roll(data, i) for i in range(1, lag+1)])\n",
    "    return lagged_data[lag:]\n",
    "\n",
    "def generate_features(returns, volatility, lag=5, p = 10):\n",
    "    X_lagged = create_lagged_features(returns, lag)\n",
    "    if p > 0:\n",
    "        random_features = np.random.rand(X_lagged.shape[0], p)  # Ensure matching rows\n",
    "        X = np.hstack((X_lagged, random_features))\n",
    "    else:\n",
    "        X = X_lagged\n",
    "    y = volatility[lag:]\n",
    "    return X, y\n",
    "\n",
    "# Simulation and forecasting\n",
    "def simulation_run(n, p, sigma, omega, alpha, gamma, beta, mu, num_reps=50, lag=5):\n",
    "    errors_list = []\n",
    "    qlike_list = []\n",
    "    #Tuning\n",
    "    tuning_size = 500\n",
    "    n_trials = 5\n",
    "    returns_tune, volatility_tune = generate_GJR(tuning_size, omega, alpha, gamma, beta, mu, sigma)\n",
    "    X_tune, Y_tune = generate_features(returns_tune, volatility_tune, lag, p)\n",
    "    LLF_parameters = hypertune_model(\"LocalLinearForest\", X_tune, Y_tune, n_trials = n_trials)\n",
    "    RF_parameters = hypertune_model(\"RandomForest\", X_tune, Y_tune, n_trials = n_trials)\n",
    "    LRF_parameters = hypertune_model(\"LASSO-RF\", X_tune, Y_tune, n_trials = n_trials)\n",
    "    XGB_parameters = hypertune_model(\"XGBoost\", X_tune, Y_tune, n_trials = n_trials)\n",
    "    BART_parameters = hypertune_model(\"BART\", X_tune, Y_tune, n_trials = 1)\n",
    "\n",
    "    \n",
    "    for _ in tqdm(range(num_reps)):\n",
    "        returns, volatility = generate_GJR(n, omega, alpha, gamma, beta, mu, sigma)\n",
    "        X, y = generate_features(returns, volatility, lag, p)\n",
    "        train_size = len(X)-1\n",
    "\n",
    "        # Train-test split\n",
    "        X_train, X_test = X[:train_size], X[train_size:]\n",
    "        Y_train, y_test = y[:train_size], y[train_size:]\n",
    "\n",
    "        #Random Forest\n",
    "        RF_predictions = train_test_rf(X_train, Y_train, X_test, **RF_parameters)\n",
    "        RF_mse = mean_squared_error(y_test, RF_predictions)\n",
    "        RF_qlike = get_qlike(RF_predictions, y_test)\n",
    "\n",
    "        #Lasso Random Forest\n",
    "        LRF = LassoRandomForest(**LRF_parameters)\n",
    "        LRF.fit(X_train, Y_train)\n",
    "        LRF_preds = LRF.predict(X_test)\n",
    "        LRF_mse = mean_squared_error(y_test, LRF_preds)\n",
    "        LRF_qlike = get_qlike(LRF_preds, y_test)\n",
    "\n",
    "        #Local Linear Forest\n",
    "        LLF = LocalLinearForestRegressor(**LLF_parameters)\n",
    "        LLF.fit(X_train, Y_train)\n",
    "        LLF_predictions = LLF.predict_LLF(X_test)\n",
    "        LLF_mse = mean_squared_error(y_test, LLF_predictions)\n",
    "        LLF_qlike = get_qlike(LLF_predictions, y_test)\n",
    "\n",
    "        #Bayesian Additive Regression Trees\n",
    "        BART_predictions = predict_bart(X_train, Y_train, X_test, **BART_parameters)\n",
    "        BART_mse = mean_squared_error(y_test, BART_predictions)\n",
    "        BART_qlike = get_qlike(BART_predictions, y_test)\n",
    "\n",
    "        #XGBoost\n",
    "        XG_predictions = predict_xgboost(X_train, Y_train, X_test, **XGB_parameters)\n",
    "        XG_mse = mean_squared_error(y_test, XG_predictions)\n",
    "        XG_qlike = get_qlike(XG_predictions, y_test)\n",
    "\n",
    "        # Collect errors\n",
    "        errors = {\n",
    "            \"LLF\": LLF_mse,\n",
    "            \"RF\": RF_mse,\n",
    "            \"Lasso RF\": LRF_mse,\n",
    "            \"BART\": BART_mse,\n",
    "            \"XGBoost\": XG_mse\n",
    "        }\n",
    "        errors_list.append(errors)\n",
    "\n",
    "        qlikes = {\n",
    "            \"LLF\": LLF_qlike,\n",
    "            \"RF\": RF_qlike,\n",
    "            \"Lasso RF\": LRF_qlike,\n",
    "            \"BART\": BART_qlike,\n",
    "            \"XGBoost\": XG_qlike\n",
    "        }\n",
    "        qlike_list.append(qlikes)\n",
    "\n",
    "    mean_errors = {model: np.mean([errors[model] for errors in errors_list]) for model in errors_list[0]}\n",
    "    mean_qlikes = {model: np.mean([qlikes[model] for qlikes in qlike_list]) for model in qlike_list[0]}\n",
    "    return mean_errors, mean_qlikes\n",
    "\n",
    "# Simulation parameters\n",
    "num_reps = 1\n",
    "efficient_run = False\n",
    "\n",
    "# Parameters for GJR-GARCH(1,1) model\n",
    "omega = 0.0000908\n",
    "alpha = 0.03569\n",
    "beta = 0.87636\n",
    "gamma = 0.06178693\n",
    "mu= -0.000215\n",
    "lags = 5\n",
    "\n",
    "ns = [1000, 5000]\n",
    "ps = [0,5,10]\n",
    "sigmas = [1,5,10]\n",
    "\n",
    "if efficient_run:\n",
    "  ns = [1000]\n",
    "  ps = [0]\n",
    "  sigmas = [10]\n",
    "\n",
    "args = [(n, p, sigma) for n in ns for p in ps for sigma in sigmas]\n",
    "mses_results = []\n",
    "qlikes_results = []\n",
    "for arguments in tqdm(args):\n",
    "    print(arguments)\n",
    "    mses, qlikes = simulation_run(*arguments, omega, alpha, gamma, beta, mu, num_reps, lags)\n",
    "    #print([*np.round(np.sqrt(mses), 3)])\n",
    "    mses_results.append([*np.round(np.sqrt(list(mses.values())), 3)])\n",
    "    qlikes_results.append([*np.round(np.sqrt(list(qlikes.values())), 3)])\n",
    "    print([*np.round(np.sqrt(list(mses.values())), 3)])\n",
    "\n",
    "mses_results = np.array(mses_results)\n",
    "qlikes_results = np.array(qlikes_results)\n",
    "\n",
    "print(\"Mean RMSE: \", mses_results)\n",
    "print(\"Mean QLIKE:\", qlikes_results)"
   ]
  }
 ],
 "metadata": {
  "kernelspec": {
   "display_name": ".venv",
   "language": "python",
   "name": "python3"
  },
  "language_info": {
   "codemirror_mode": {
    "name": "ipython",
    "version": 3
   },
   "file_extension": ".py",
   "mimetype": "text/x-python",
   "name": "python",
   "nbconvert_exporter": "python",
   "pygments_lexer": "ipython3",
   "version": "3.12.2"
  }
 },
 "nbformat": 4,
 "nbformat_minor": 2
}

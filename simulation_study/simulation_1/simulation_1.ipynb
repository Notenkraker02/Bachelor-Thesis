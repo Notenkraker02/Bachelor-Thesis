{
 "cells": [
  {
   "cell_type": "code",
   "execution_count": 4,
   "metadata": {},
   "outputs": [
    {
     "data": {
      "application/vnd.jupyter.widget-view+json": {
       "model_id": "2cd7fb359a5347588357af3f12407fec",
       "version_major": 2,
       "version_minor": 0
      },
      "text/plain": [
       "  0%|          | 0/50 [00:00<?, ?it/s]"
      ]
     },
     "metadata": {},
     "output_type": "display_data"
    },
    {
     "name": "stdout",
     "output_type": "stream",
     "text": [
      "LocalLinearForest {'n_estimators': 300, 'max_depth': 10, 'min_samples_split': 6, 'min_samples_leaf': 2, 'lam': 0.05}\n"
     ]
    },
    {
     "data": {
      "application/vnd.jupyter.widget-view+json": {
       "model_id": "5a74828931f64ad99111b9a79ff94a35",
       "version_major": 2,
       "version_minor": 0
      },
      "text/plain": [
       "  0%|          | 0/50 [00:00<?, ?it/s]"
      ]
     },
     "metadata": {},
     "output_type": "display_data"
    },
    {
     "name": "stdout",
     "output_type": "stream",
     "text": [
      "RandomForest {'n_estimators': 200, 'max_depth': 10, 'min_samples_split': 6, 'min_samples_leaf': 2}\n"
     ]
    },
    {
     "data": {
      "application/vnd.jupyter.widget-view+json": {
       "model_id": "ff72a8efc26a4f2d80dc971c5b05bb13",
       "version_major": 2,
       "version_minor": 0
      },
      "text/plain": [
       "  0%|          | 0/50 [00:00<?, ?it/s]"
      ]
     },
     "metadata": {},
     "output_type": "display_data"
    },
    {
     "name": "stdout",
     "output_type": "stream",
     "text": [
      "LASSO-RF {'lasso_alpha': 0.046012689864369204, 'n_estimators': 500, 'max_depth': 10, 'min_samples_split': 4, 'min_samples_leaf': 2}\n"
     ]
    },
    {
     "data": {
      "application/vnd.jupyter.widget-view+json": {
       "model_id": "77bbfc3053b6400e8293b81a9a108e13",
       "version_major": 2,
       "version_minor": 0
      },
      "text/plain": [
       "  0%|          | 0/50 [00:00<?, ?it/s]"
      ]
     },
     "metadata": {},
     "output_type": "display_data"
    },
    {
     "name": "stdout",
     "output_type": "stream",
     "text": [
      "XGBoost {'n_estimators': 500, 'max_depth': 7, 'learning_rate': 0.5500292037407584}\n"
     ]
    },
    {
     "data": {
      "application/vnd.jupyter.widget-view+json": {
       "model_id": "200345cf0545453fa1c50241679c7005",
       "version_major": 2,
       "version_minor": 0
      },
      "text/plain": [
       "  0%|          | 0/3 [00:00<?, ?it/s]"
      ]
     },
     "metadata": {},
     "output_type": "display_data"
    },
    {
     "name": "stdout",
     "output_type": "stream",
     "text": [
      "BART {'n_chains': 4, 'n_trees': 200, 'n_burn': 300, 'n_samples': 500}\n"
     ]
    },
    {
     "data": {
      "application/vnd.jupyter.widget-view+json": {
       "model_id": "4980fce920084b56a0070bdcea37705b",
       "version_major": 2,
       "version_minor": 0
      },
      "text/plain": [
       "  0%|          | 0/9 [00:00<?, ?it/s]"
      ]
     },
     "metadata": {},
     "output_type": "display_data"
    },
    {
     "name": "stdout",
     "output_type": "stream",
     "text": [
      "(5000, 0, 1)\n"
     ]
    },
    {
     "data": {
      "application/vnd.jupyter.widget-view+json": {
       "model_id": "7432cdb4932f4c3d9ebc28f2fd55b20e",
       "version_major": 2,
       "version_minor": 0
      },
      "text/plain": [
       "  0%|          | 0/10 [00:00<?, ?it/s]"
      ]
     },
     "metadata": {},
     "output_type": "display_data"
    },
    {
     "name": "stdout",
     "output_type": "stream",
     "text": [
      "[0.099, 0.051, 0.047, 0.054, 0.033]\n",
      "[0.108, 0.061, 0.056, 0.058, 0.039]\n",
      "(5000, 0, 5)\n"
     ]
    },
    {
     "data": {
      "application/vnd.jupyter.widget-view+json": {
       "model_id": "3896800aa8eb4593a3f504b9a77461d4",
       "version_major": 2,
       "version_minor": 0
      },
      "text/plain": [
       "  0%|          | 0/10 [00:00<?, ?it/s]"
      ]
     },
     "metadata": {},
     "output_type": "display_data"
    },
    {
     "name": "stdout",
     "output_type": "stream",
     "text": [
      "[0.43, 0.508, 0.483, 0.476, 0.512]\n",
      "[0.084, 0.103, 0.098, 0.091, 0.104]\n",
      "(5000, 0, 10)\n"
     ]
    },
    {
     "data": {
      "application/vnd.jupyter.widget-view+json": {
       "model_id": "63ab6522c2c6404781efdb08e00a9ac0",
       "version_major": 2,
       "version_minor": 0
      },
      "text/plain": [
       "  0%|          | 0/10 [00:00<?, ?it/s]"
      ]
     },
     "metadata": {},
     "output_type": "display_data"
    },
    {
     "name": "stdout",
     "output_type": "stream",
     "text": [
      "[0.317, 0.429, 0.421, 0.598, 0.815]\n",
      "[0.031, 0.045, 0.049, 0.061, 0.089]\n",
      "(5000, 5, 1)\n"
     ]
    },
    {
     "data": {
      "application/vnd.jupyter.widget-view+json": {
       "model_id": "5d4d3ef8b6ec4bc2a3581e6350c37457",
       "version_major": 2,
       "version_minor": 0
      },
      "text/plain": [
       "  0%|          | 0/10 [00:00<?, ?it/s]"
      ]
     },
     "metadata": {},
     "output_type": "display_data"
    },
    {
     "name": "stdout",
     "output_type": "stream",
     "text": [
      "[0.139, 0.042, 0.043, 0.043, 0.027]\n",
      "[0.14, 0.05, 0.052, 0.046, 0.027]\n",
      "(5000, 5, 5)\n"
     ]
    },
    {
     "data": {
      "application/vnd.jupyter.widget-view+json": {
       "model_id": "c9f226319b1043ada0791670c7d0ee9a",
       "version_major": 2,
       "version_minor": 0
      },
      "text/plain": [
       "  0%|          | 0/10 [00:00<?, ?it/s]"
      ]
     },
     "metadata": {},
     "output_type": "display_data"
    },
    {
     "name": "stdout",
     "output_type": "stream",
     "text": [
      "[0.378, 0.443, 0.235, 0.384, 0.378]\n",
      "[0.083, 0.088, 0.057, 0.073, 0.069]\n",
      "(5000, 5, 10)\n"
     ]
    },
    {
     "data": {
      "application/vnd.jupyter.widget-view+json": {
       "model_id": "9e472b271627420986103feb8cb11648",
       "version_major": 2,
       "version_minor": 0
      },
      "text/plain": [
       "  0%|          | 0/10 [00:00<?, ?it/s]"
      ]
     },
     "metadata": {},
     "output_type": "display_data"
    },
    {
     "name": "stdout",
     "output_type": "stream",
     "text": [
      "[0.626, 0.527, 0.638, 0.495, 0.444]\n",
      "[0.066, 0.057, 0.063, 0.053, 0.045]\n",
      "(5000, 10, 1)\n"
     ]
    },
    {
     "data": {
      "application/vnd.jupyter.widget-view+json": {
       "model_id": "c5176a978fe5436095ef90800a378de6",
       "version_major": 2,
       "version_minor": 0
      },
      "text/plain": [
       "  0%|          | 0/10 [00:00<?, ?it/s]"
      ]
     },
     "metadata": {},
     "output_type": "display_data"
    },
    {
     "name": "stdout",
     "output_type": "stream",
     "text": [
      "[0.054, 0.057, 0.06, 0.054, 0.063]\n",
      "[0.054, 0.059, 0.061, 0.056, 0.068]\n",
      "(5000, 10, 5)\n"
     ]
    },
    {
     "data": {
      "application/vnd.jupyter.widget-view+json": {
       "model_id": "46df840837d04f8e89c934a150a6c5c4",
       "version_major": 2,
       "version_minor": 0
      },
      "text/plain": [
       "  0%|          | 0/10 [00:00<?, ?it/s]"
      ]
     },
     "metadata": {},
     "output_type": "display_data"
    },
    {
     "name": "stdout",
     "output_type": "stream",
     "text": [
      "[0.341, 0.231, 0.241, 0.345, 0.247]\n",
      "[0.076, 0.056, 0.053, 0.068, 0.048]\n",
      "(5000, 10, 10)\n"
     ]
    },
    {
     "data": {
      "application/vnd.jupyter.widget-view+json": {
       "model_id": "3893756b67464a7b8411ee6e12101307",
       "version_major": 2,
       "version_minor": 0
      },
      "text/plain": [
       "  0%|          | 0/10 [00:00<?, ?it/s]"
      ]
     },
     "metadata": {},
     "output_type": "display_data"
    },
    {
     "name": "stdout",
     "output_type": "stream",
     "text": [
      "[0.487, 0.319, 0.394, 0.385, 0.449]\n",
      "[0.048, 0.032, 0.038, 0.036, 0.04]\n",
      "Mean RMSE:  [[0.099 0.051 0.047 0.054 0.033]\n",
      " [0.43  0.508 0.483 0.476 0.512]\n",
      " [0.317 0.429 0.421 0.598 0.815]\n",
      " [0.139 0.042 0.043 0.043 0.027]\n",
      " [0.378 0.443 0.235 0.384 0.378]\n",
      " [0.626 0.527 0.638 0.495 0.444]\n",
      " [0.054 0.057 0.06  0.054 0.063]\n",
      " [0.341 0.231 0.241 0.345 0.247]\n",
      " [0.487 0.319 0.394 0.385 0.449]]\n",
      "Mean QLIKE: [[0.108 0.061 0.056 0.058 0.039]\n",
      " [0.084 0.103 0.098 0.091 0.104]\n",
      " [0.031 0.045 0.049 0.061 0.089]\n",
      " [0.14  0.05  0.052 0.046 0.027]\n",
      " [0.083 0.088 0.057 0.073 0.069]\n",
      " [0.066 0.057 0.063 0.053 0.045]\n",
      " [0.054 0.059 0.061 0.056 0.068]\n",
      " [0.076 0.056 0.053 0.068 0.048]\n",
      " [0.048 0.032 0.038 0.036 0.04 ]]\n"
     ]
    }
   ],
   "source": [
    "import os\n",
    "import sys\n",
    "import numpy as np\n",
    "from sklearn.metrics import mean_squared_error\n",
    "from tqdm.auto import tqdm\n",
    "current_dir = os.path.dirname(r\"C:\\Users\\JNoot\\Documents\\University\\Bachelor Thesis\\New Code\\simulation_study\\simulation_1\")\n",
    "parent_dir = os.path.abspath(os.path.join(current_dir, os.pardir))\n",
    "sys.path.insert(0, parent_dir)\n",
    "sys.path.append(os.path.dirname(os.path.abspath(r\"C:\\Users\\JNoot\\Documents\\University\\Bachelor Thesis\\New Code\\simulation_study\\simulation_1\\simulation_1.ipynb\")) + '/..')\n",
    "from simulation_study.models.random_forest import train_test_rf\n",
    "from simulation_study.models.local_linear_forest import LocalLinearForestRegressor\n",
    "from simulation_study.models.bart import predict_bart\n",
    "from simulation_study.models.xgboost import predict_xgboost\n",
    "from simulation_study.models.lasso_rf import LassoRandomForest\n",
    "from simulation_study.hypertuning.hypertune import hypertune_model\n",
    "from simulation_study.utils.qlike import get_qlike\n",
    "\n",
    "def generate_GJR(n,omega, alpha, gamma, beta, mu, sigma):\n",
    "  # Simulate GJR-GARCH(1,1) process\n",
    "  np.random.seed()\n",
    "  residuals = np.random.normal(scale=sigma, size=n)\n",
    "  volatility = np.zeros(n)\n",
    "  returns = np.zeros(n)\n",
    "\n",
    "  # Initial volatility\n",
    "  volatility[0] = np.sqrt(omega / (1 - alpha - gamma / 2 - beta))\n",
    "\n",
    "  for t in range(1, n):\n",
    "      # GJR-GARCH process\n",
    "      indicator = (residuals[t-1] < 0).astype(float)\n",
    "      volatility[t] = np.sqrt(omega + (alpha + gamma * indicator) * (residuals[t-1] ** 2) + beta * (volatility[t-1] ** 2))\n",
    "\n",
    "      # Generate returns\n",
    "      returns[t] = mu + volatility[t] * residuals[t]\n",
    "\n",
    "  return returns, volatility\n",
    "\n",
    "# Generate lagged features for forecasting\n",
    "def create_lagged_features(data, lag=1):\n",
    "    lagged_data = np.column_stack([np.roll(data, i) for i in range(1, lag+1)])\n",
    "    return lagged_data[lag:]\n",
    "\n",
    "def generate_features(returns, volatility, lag=5, p = 10):\n",
    "    X_lagged = create_lagged_features(returns, lag)\n",
    "    if p > 0:\n",
    "        random_features = np.random.rand(X_lagged.shape[0], p)  # Ensure matching rows\n",
    "        X = np.hstack((X_lagged, random_features))\n",
    "    else:\n",
    "        X = X_lagged\n",
    "    y = volatility[lag:]\n",
    "    return X, y\n",
    "\n",
    "def get_parameters(tuning_size, n_trials, sigma, lag, p):\n",
    "    returns_tune, volatility_tune = generate_GJR(tuning_size, omega, alpha, gamma, beta, mu, sigma)\n",
    "    X_tune, Y_tune = generate_features(returns_tune, volatility_tune, lag, p)\n",
    "    LLF_parameters = hypertune_model(\"LocalLinearForest\", X_tune, Y_tune, n_trials = n_trials)\n",
    "    RF_parameters = hypertune_model(\"RandomForest\", X_tune, Y_tune, n_trials = n_trials)\n",
    "    LRF_parameters = hypertune_model(\"LASSO-RF\", X_tune, Y_tune, n_trials = n_trials)\n",
    "    XGB_parameters = hypertune_model(\"XGBoost\", X_tune, Y_tune, n_trials = n_trials)\n",
    "    BART_parameters = hypertune_model(\"BART\", X_tune, Y_tune, n_trials = 3)\n",
    "    parameters = {\"LLF\": LLF_parameters, \"RF\": RF_parameters, \"LRF\" : LRF_parameters, \n",
    "                   \"XGB\": XGB_parameters, \"BART\": BART_parameters}\n",
    "    return parameters\n",
    "\n",
    "# Simulation and forecasting\n",
    "def simulation_run(n, p, sigma, omega, alpha, gamma, beta, mu, num_reps=50, lag=5, parameters = None):\n",
    "    errors_list = []\n",
    "    qlike_list = []\n",
    "    for _ in tqdm(range(num_reps)):\n",
    "        returns, volatility = generate_GJR(n, omega, alpha, gamma, beta, mu, sigma)\n",
    "        X, y = generate_features(returns, volatility, lag, p)\n",
    "        train_size = len(X)-1\n",
    "\n",
    "        # Train-test split\n",
    "        X_train, X_test = X[:train_size], X[train_size:]\n",
    "        Y_train, y_test = y[:train_size], y[train_size:]\n",
    "\n",
    "        #Random Forest\n",
    "        RF_predictions = train_test_rf(X_train, Y_train, X_test, **parameters[\"RF\"])\n",
    "        RF_mse = mean_squared_error(y_test, RF_predictions)\n",
    "        RF_qlike = get_qlike(RF_predictions, y_test)\n",
    "\n",
    "        #Lasso Random Forest\n",
    "        LRF = LassoRandomForest(**parameters[\"LRF\"])\n",
    "        LRF.fit(X_train, Y_train)\n",
    "        LRF_preds = LRF.predict(X_test)\n",
    "        LRF_mse = mean_squared_error(y_test, LRF_preds)\n",
    "        LRF_qlike = get_qlike(LRF_preds, y_test)\n",
    "\n",
    "        #Local Linear Forest\n",
    "        LLF = LocalLinearForestRegressor(**parameters[\"LLF\"])\n",
    "        LLF.fit(X_train, Y_train)\n",
    "        LLF_predictions = LLF.predict_LLF(X_test)\n",
    "        LLF_mse = mean_squared_error(y_test, LLF_predictions)\n",
    "        LLF_qlike = get_qlike(LLF_predictions, y_test)\n",
    "\n",
    "        #Bayesian Additive Regression Trees\n",
    "        BART_predictions = predict_bart(X_train, Y_train, X_test, **parameters[\"BART\"])\n",
    "        BART_mse = mean_squared_error(y_test, BART_predictions)\n",
    "        BART_qlike = get_qlike(BART_predictions, y_test)\n",
    "\n",
    "        #XGBoost\n",
    "        XG_predictions = predict_xgboost(X_train, Y_train, X_test, **parameters[\"XGB\"])\n",
    "        XG_mse = mean_squared_error(y_test, XG_predictions)\n",
    "        XG_qlike = get_qlike(XG_predictions, y_test)\n",
    "\n",
    "        # Collect errors\n",
    "        errors = {\n",
    "            \"LLF\": LLF_mse,\n",
    "            \"RF\": RF_mse,\n",
    "            \"Lasso RF\": LRF_mse,\n",
    "            \"BART\": BART_mse,\n",
    "            \"XGBoost\": XG_mse\n",
    "        }\n",
    "        errors_list.append(errors)\n",
    "\n",
    "        qlikes = {\n",
    "            \"LLF\": LLF_qlike,\n",
    "            \"RF\": RF_qlike,\n",
    "            \"Lasso RF\": LRF_qlike,\n",
    "            \"BART\": BART_qlike,\n",
    "            \"XGBoost\": XG_qlike\n",
    "        }\n",
    "        qlike_list.append(qlikes)\n",
    "\n",
    "    mean_errors = {model: np.mean([errors[model] for errors in errors_list]) for model in errors_list[0]}\n",
    "    mean_qlikes = {model: np.mean([qlikes[model] for qlikes in qlike_list]) for model in qlike_list[0]}\n",
    "    return mean_errors, mean_qlikes\n",
    "\n",
    "# Simulation parameters\n",
    "num_reps = 10\n",
    "efficient_run = True\n",
    "\n",
    "# Parameters for GJR-GARCH(1,1) model\n",
    "omega = 0.0000908\n",
    "alpha = 0.03569\n",
    "beta = 0.87636\n",
    "gamma = 0.06178693\n",
    "mu= -0.000215\n",
    "lags = 5\n",
    "\n",
    "ns = [1000, 5000]\n",
    "ps = [0,5,10]\n",
    "sigmas = [1,5,10]\n",
    "\n",
    "if efficient_run:\n",
    "  ns = [5000]\n",
    "\n",
    "\n",
    "args = [(n, p, sigma) for n in ns for p in ps for sigma in sigmas]\n",
    "mses_results = []\n",
    "qlikes_results = []\n",
    "model_parameters = get_parameters(1000, 50, 10, 5, 10)\n",
    "for arguments in tqdm(args):\n",
    "    print(arguments)\n",
    "    mses, qlikes = simulation_run(*arguments, omega, alpha, gamma, beta, mu, num_reps, lags, model_parameters)\n",
    "    mses_results.append([*np.round(np.sqrt(list(mses.values())), 3)])\n",
    "    qlikes_results.append([*np.round(np.sqrt(list(qlikes.values())), 3)])\n",
    "    print([*np.round(np.sqrt(list(mses.values())), 3)])\n",
    "    print([*np.round(np.sqrt(list(qlikes.values())), 3)])\n",
    "\n",
    "mses_results = np.array(mses_results)\n",
    "qlikes_results = np.array(qlikes_results)\n",
    "\n",
    "print(\"Mean RMSE: \", mses_results)\n",
    "print(\"Mean QLIKE:\", qlikes_results)"
   ]
  }
 ],
 "metadata": {
  "kernelspec": {
   "display_name": ".venv",
   "language": "python",
   "name": "python3"
  },
  "language_info": {
   "codemirror_mode": {
    "name": "ipython",
    "version": 3
   },
   "file_extension": ".py",
   "mimetype": "text/x-python",
   "name": "python",
   "nbconvert_exporter": "python",
   "pygments_lexer": "ipython3",
   "version": "3.12.2"
  }
 },
 "nbformat": 4,
 "nbformat_minor": 2
}

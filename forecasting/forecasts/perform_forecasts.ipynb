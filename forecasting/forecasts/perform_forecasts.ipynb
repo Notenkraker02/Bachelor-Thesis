{
 "cells": [
  {
   "cell_type": "code",
   "execution_count": 2,
   "metadata": {},
   "outputs": [
    {
     "data": {
      "application/vnd.jupyter.widget-view+json": {
       "model_id": "9dcf8e0e41834f21a4336436cb8fae7d",
       "version_major": 2,
       "version_minor": 0
      },
      "text/plain": [
       "  0%|          | 0/8 [00:00<?, ?it/s]"
      ]
     },
     "metadata": {},
     "output_type": "display_data"
    },
    {
     "name": "stdout",
     "output_type": "stream",
     "text": [
      "Bitcoin\n",
      "\n"
     ]
    },
    {
     "data": {
      "application/vnd.jupyter.widget-view+json": {
       "model_id": "c9a5a1984b76497a8aebb532e39cf155",
       "version_major": 2,
       "version_minor": 0
      },
      "text/plain": [
       "  0%|          | 0/50 [00:00<?, ?it/s]"
      ]
     },
     "metadata": {},
     "output_type": "display_data"
    },
    {
     "name": "stdout",
     "output_type": "stream",
     "text": [
      "LocalLinearForest {'n_estimators': 500, 'max_depth': 9, 'min_samples_split': 8, 'min_samples_leaf': 2, 'lam': 0.1}\n",
      "\n"
     ]
    },
    {
     "data": {
      "application/vnd.jupyter.widget-view+json": {
       "model_id": "203080332983436784a30ee216315771",
       "version_major": 2,
       "version_minor": 0
      },
      "text/plain": [
       "  0%|          | 0/50 [00:00<?, ?it/s]"
      ]
     },
     "metadata": {},
     "output_type": "display_data"
    },
    {
     "name": "stdout",
     "output_type": "stream",
     "text": [
      "RandomForest {'n_estimators': 100, 'max_depth': 10, 'min_samples_split': 5, 'min_samples_leaf': 3}\n",
      "GARCH estimates: mu          0.103153\n",
      "omega       1.094889\n",
      "alpha[1]    0.126730\n",
      "beta[1]     0.748364\n",
      "Name: params, dtype: float64\n",
      "GJR estimates: mu          0.073986\n",
      "omega       0.969059\n",
      "alpha[1]    0.061690\n",
      "gamma[1]    0.098674\n",
      "beta[1]     0.776676\n",
      "Name: params, dtype: float64\n",
      "rmse {'LLF': 0.2906529584400876, 'RF': 0.36178258533084734, 'GARCH': 1.5687686427836331, 'GJR': 1.566283444242782, 'HAR-RV': 1.7092171112536745}\n",
      "qlike {'LLF': 0.03467027932260908, 'RF': 0.006711548102553796, 'GARCH': 0.20963702985313204, 'GJR': 0.20999203199254798, 'HAR-RV': 0.28617590273957305}\n",
      "counts {'LLF': 1, 'RF': 0, 'GARCH': 0, 'GJR': 0, 'HAR-RV': 0} {'LLF': 1, 'RF': 1, 'GARCH': 0, 'GJR': 0, 'HAR-RV': 0} {'LLF': 0, 'RF': 1, 'GARCH': 0, 'GJR': 0, 'HAR-RV': 0} {'LLF': 0, 'RF': 1, 'GARCH': 0, 'GJR': 0, 'HAR-RV': 0}\n",
      "Ethereum\n",
      "\n"
     ]
    },
    {
     "data": {
      "application/vnd.jupyter.widget-view+json": {
       "model_id": "188dd04f5782411db1f229fa7bab3f86",
       "version_major": 2,
       "version_minor": 0
      },
      "text/plain": [
       "  0%|          | 0/50 [00:00<?, ?it/s]"
      ]
     },
     "metadata": {},
     "output_type": "display_data"
    },
    {
     "name": "stdout",
     "output_type": "stream",
     "text": [
      "LocalLinearForest {'n_estimators': 200, 'max_depth': 9, 'min_samples_split': 8, 'min_samples_leaf': 4, 'lam': 0.1}\n",
      "\n"
     ]
    },
    {
     "data": {
      "application/vnd.jupyter.widget-view+json": {
       "model_id": "ce366ac5010744959b0393914fb1ba32",
       "version_major": 2,
       "version_minor": 0
      },
      "text/plain": [
       "  0%|          | 0/50 [00:00<?, ?it/s]"
      ]
     },
     "metadata": {},
     "output_type": "display_data"
    },
    {
     "name": "stdout",
     "output_type": "stream",
     "text": [
      "RandomForest {'n_estimators': 100, 'max_depth': 10, 'min_samples_split': 7, 'min_samples_leaf': 5}\n",
      "GARCH estimates: mu          0.120234\n",
      "omega       0.419219\n",
      "alpha[1]    0.083433\n",
      "beta[1]     0.886303\n",
      "Name: params, dtype: float64\n",
      "GJR estimates: mu          0.115785\n",
      "omega       0.709015\n",
      "alpha[1]    0.069080\n",
      "gamma[1]    0.063051\n",
      "beta[1]     0.845340\n",
      "Name: params, dtype: float64\n",
      "rmse {'LLF': 0.3133823423270757, 'RF': 0.505960725507872, 'GARCH': 2.1116656527792452, 'GJR': 2.107570919318288, 'HAR-RV': 2.1548991281055176}\n",
      "qlike {'LLF': 0.008005485691617745, 'RF': 0.008077135742726154, 'GARCH': 0.2591446000139814, 'GJR': 0.2596579160074702, 'HAR-RV': 0.27293158110349985}\n",
      "counts {'LLF': 2, 'RF': 0, 'GARCH': 0, 'GJR': 0, 'HAR-RV': 0} {'LLF': 2, 'RF': 1, 'GARCH': 0, 'GJR': 0, 'HAR-RV': 0} {'LLF': 1, 'RF': 2, 'GARCH': 0, 'GJR': 0, 'HAR-RV': 0} {'LLF': 1, 'RF': 2, 'GARCH': 0, 'GJR': 0, 'HAR-RV': 0}\n",
      "Tether\n",
      "\n"
     ]
    },
    {
     "data": {
      "application/vnd.jupyter.widget-view+json": {
       "model_id": "5e58ad6a942940e8bb1106e9283fe3f3",
       "version_major": 2,
       "version_minor": 0
      },
      "text/plain": [
       "  0%|          | 0/50 [00:00<?, ?it/s]"
      ]
     },
     "metadata": {},
     "output_type": "display_data"
    },
    {
     "name": "stdout",
     "output_type": "stream",
     "text": [
      "LocalLinearForest {'n_estimators': 400, 'max_depth': 7, 'min_samples_split': 5, 'min_samples_leaf': 3, 'lam': 0.05}\n",
      "\n"
     ]
    },
    {
     "data": {
      "application/vnd.jupyter.widget-view+json": {
       "model_id": "c16bcb6f6547430d8919653bcf85dd65",
       "version_major": 2,
       "version_minor": 0
      },
      "text/plain": [
       "  0%|          | 0/50 [00:00<?, ?it/s]"
      ]
     },
     "metadata": {},
     "output_type": "display_data"
    },
    {
     "name": "stdout",
     "output_type": "stream",
     "text": [
      "RandomForest {'n_estimators': 100, 'max_depth': 7, 'min_samples_split': 9, 'min_samples_leaf': 3}\n",
      "GARCH estimates: mu         -0.009473\n",
      "omega       0.019960\n",
      "alpha[1]    0.066390\n",
      "beta[1]     0.840968\n",
      "Name: params, dtype: float64\n",
      "GJR estimates: mu         -0.008262\n",
      "omega       0.021255\n",
      "alpha[1]    0.074656\n",
      "gamma[1]   -0.011952\n",
      "beta[1]     0.832614\n",
      "Name: params, dtype: float64\n",
      "rmse {'LLF': 0.1558703380669229, 'RF': 0.14823983699018478, 'GARCH': 0.39573197769992563, 'GJR': 0.39574901647516486, 'HAR-RV': 0.40867756255548854}\n",
      "qlike {'LLF': 0.09025894557787212, 'RF': 0.017849018909674722, 'GARCH': 0.25562901518668996, 'GJR': 0.25561517283302615, 'HAR-RV': 0.44998066193532854}\n",
      "counts {'LLF': 3, 'RF': 1, 'GARCH': 0, 'GJR': 0, 'HAR-RV': 0} {'LLF': 2, 'RF': 2, 'GARCH': 0, 'GJR': 0, 'HAR-RV': 0} {'LLF': 1, 'RF': 3, 'GARCH': 0, 'GJR': 0, 'HAR-RV': 0} {'LLF': 1, 'RF': 3, 'GARCH': 0, 'GJR': 0, 'HAR-RV': 0}\n",
      "Binance Coin\n",
      "\n"
     ]
    },
    {
     "data": {
      "application/vnd.jupyter.widget-view+json": {
       "model_id": "98b7ad252af243928dde8647ec10e1ad",
       "version_major": 2,
       "version_minor": 0
      },
      "text/plain": [
       "  0%|          | 0/50 [00:00<?, ?it/s]"
      ]
     },
     "metadata": {},
     "output_type": "display_data"
    },
    {
     "name": "stdout",
     "output_type": "stream",
     "text": [
      "LocalLinearForest {'n_estimators': 100, 'max_depth': 6, 'min_samples_split': 9, 'min_samples_leaf': 3, 'lam': 0.05}\n",
      "\n"
     ]
    },
    {
     "data": {
      "application/vnd.jupyter.widget-view+json": {
       "model_id": "64871b8179d24adab0c766ac7836749f",
       "version_major": 2,
       "version_minor": 0
      },
      "text/plain": [
       "  0%|          | 0/50 [00:00<?, ?it/s]"
      ]
     },
     "metadata": {},
     "output_type": "display_data"
    },
    {
     "name": "stdout",
     "output_type": "stream",
     "text": [
      "RandomForest {'n_estimators': 200, 'max_depth': 9, 'min_samples_split': 9, 'min_samples_leaf': 3}\n",
      "GARCH estimates: mu          0.087400\n",
      "omega       0.411812\n",
      "alpha[1]    0.157216\n",
      "beta[1]     0.822858\n",
      "Name: params, dtype: float64\n",
      "GJR estimates: mu          0.076187\n",
      "omega       0.462729\n",
      "alpha[1]    0.144596\n",
      "gamma[1]    0.039700\n",
      "beta[1]     0.811745\n",
      "Name: params, dtype: float64\n",
      "rmse {'LLF': 0.29674514873123203, 'RF': 0.4938681739947354, 'GARCH': 2.0861387435596055, 'GJR': 2.084952719065336, 'HAR-RV': 2.448547450905265}\n",
      "qlike {'LLF': 0.008827541930606512, 'RF': 0.008249175338073352, 'GARCH': 0.2574702414257507, 'GJR': 0.25812202415098245, 'HAR-RV': 0.5457753133024263}\n",
      "counts {'LLF': 4, 'RF': 1, 'GARCH': 0, 'GJR': 0, 'HAR-RV': 0} {'LLF': 3, 'RF': 2, 'GARCH': 0, 'GJR': 0, 'HAR-RV': 0} {'LLF': 2, 'RF': 4, 'GARCH': 0, 'GJR': 0, 'HAR-RV': 0} {'LLF': 2, 'RF': 4, 'GARCH': 0, 'GJR': 0, 'HAR-RV': 0}\n",
      "Bitcoin Cash\n",
      "\n"
     ]
    },
    {
     "data": {
      "application/vnd.jupyter.widget-view+json": {
       "model_id": "0059fbdc8b1646b1b15be2e66d1299d8",
       "version_major": 2,
       "version_minor": 0
      },
      "text/plain": [
       "  0%|          | 0/50 [00:00<?, ?it/s]"
      ]
     },
     "metadata": {},
     "output_type": "display_data"
    },
    {
     "name": "stdout",
     "output_type": "stream",
     "text": [
      "LocalLinearForest {'n_estimators': 500, 'max_depth': 10, 'min_samples_split': 4, 'min_samples_leaf': 2, 'lam': 0.05}\n",
      "\n"
     ]
    },
    {
     "data": {
      "application/vnd.jupyter.widget-view+json": {
       "model_id": "96a009639cd2478a87a7b7995b77c9b4",
       "version_major": 2,
       "version_minor": 0
      },
      "text/plain": [
       "  0%|          | 0/50 [00:00<?, ?it/s]"
      ]
     },
     "metadata": {},
     "output_type": "display_data"
    },
    {
     "name": "stdout",
     "output_type": "stream",
     "text": [
      "RandomForest {'n_estimators': 400, 'max_depth': 9, 'min_samples_split': 5, 'min_samples_leaf': 3}\n",
      "GARCH estimates: mu         -0.170957\n",
      "omega       5.757143\n",
      "alpha[1]    0.447733\n",
      "beta[1]     0.366845\n",
      "Name: params, dtype: float64\n",
      "GJR estimates: mu         -0.070567\n",
      "omega       5.952978\n",
      "alpha[1]    0.584179\n",
      "gamma[1]   -0.312458\n",
      "beta[1]     0.365147\n",
      "Name: params, dtype: float64\n",
      "rmse {'LLF': 0.27176065635843016, 'RF': 0.63874131133069, 'GARCH': 2.8238124010134724, 'GJR': 2.8312938782614547, 'HAR-RV': 2.765666413278824}\n",
      "qlike {'LLF': 0.004904082565986802, 'RF': 0.011126003085547426, 'GARCH': 0.3400276829918904, 'GJR': 0.3438380938297809, 'HAR-RV': 0.2787467937682345}\n",
      "counts {'LLF': 5, 'RF': 1, 'GARCH': 0, 'GJR': 0, 'HAR-RV': 0} {'LLF': 4, 'RF': 2, 'GARCH': 0, 'GJR': 0, 'HAR-RV': 0} {'LLF': 3, 'RF': 4, 'GARCH': 0, 'GJR': 0, 'HAR-RV': 0} {'LLF': 3, 'RF': 4, 'GARCH': 0, 'GJR': 0, 'HAR-RV': 0}\n",
      "Litecoin\n",
      "\n"
     ]
    },
    {
     "data": {
      "application/vnd.jupyter.widget-view+json": {
       "model_id": "fb00cd51db98486e91fbaecc76c3121d",
       "version_major": 2,
       "version_minor": 0
      },
      "text/plain": [
       "  0%|          | 0/50 [00:00<?, ?it/s]"
      ]
     },
     "metadata": {},
     "output_type": "display_data"
    },
    {
     "name": "stdout",
     "output_type": "stream",
     "text": [
      "LocalLinearForest {'n_estimators': 400, 'max_depth': 10, 'min_samples_split': 5, 'min_samples_leaf': 3, 'lam': 0.1}\n",
      "\n"
     ]
    },
    {
     "data": {
      "application/vnd.jupyter.widget-view+json": {
       "model_id": "a84539573d41418eb17d82dbdd954ad3",
       "version_major": 2,
       "version_minor": 0
      },
      "text/plain": [
       "  0%|          | 0/50 [00:00<?, ?it/s]"
      ]
     },
     "metadata": {},
     "output_type": "display_data"
    },
    {
     "name": "stdout",
     "output_type": "stream",
     "text": [
      "RandomForest {'n_estimators': 200, 'max_depth': 8, 'min_samples_split': 6, 'min_samples_leaf': 3}\n",
      "GARCH estimates: mu         -0.025684\n",
      "omega       0.950534\n",
      "alpha[1]    0.115055\n",
      "beta[1]     0.835366\n",
      "Name: params, dtype: float64\n",
      "GJR estimates: mu         -0.002165\n",
      "omega       0.902088\n",
      "alpha[1]    0.136316\n",
      "gamma[1]   -0.039828\n",
      "beta[1]     0.838694\n",
      "Name: params, dtype: float64\n",
      "rmse {'LLF': 0.3412214161354659, 'RF': 0.720801305305359, 'GARCH': 2.742462307869789, 'GJR': 2.7424635325924887, 'HAR-RV': 2.8901907913730724}\n",
      "qlike {'LLF': 0.0071941401578613385, 'RF': 0.008298154985583497, 'GARCH': 0.3374623332779434, 'GJR': 0.3372250475401307, 'HAR-RV': 0.42404092450229247}\n",
      "counts {'LLF': 6, 'RF': 1, 'GARCH': 0, 'GJR': 0, 'HAR-RV': 0} {'LLF': 5, 'RF': 2, 'GARCH': 0, 'GJR': 0, 'HAR-RV': 0} {'LLF': 4, 'RF': 4, 'GARCH': 0, 'GJR': 0, 'HAR-RV': 0} {'LLF': 4, 'RF': 4, 'GARCH': 0, 'GJR': 0, 'HAR-RV': 0}\n",
      "Internet Computer\n",
      "\n"
     ]
    },
    {
     "data": {
      "application/vnd.jupyter.widget-view+json": {
       "model_id": "51974dde04bb4225afc84e5b8c1ea5d7",
       "version_major": 2,
       "version_minor": 0
      },
      "text/plain": [
       "  0%|          | 0/50 [00:00<?, ?it/s]"
      ]
     },
     "metadata": {},
     "output_type": "display_data"
    },
    {
     "name": "stdout",
     "output_type": "stream",
     "text": [
      "LocalLinearForest {'n_estimators': 200, 'max_depth': 9, 'min_samples_split': 4, 'min_samples_leaf': 5, 'lam': 0.01}\n",
      "\n"
     ]
    },
    {
     "data": {
      "application/vnd.jupyter.widget-view+json": {
       "model_id": "82e1b43e4f7744bb8271fdf18a405483",
       "version_major": 2,
       "version_minor": 0
      },
      "text/plain": [
       "  0%|          | 0/50 [00:00<?, ?it/s]"
      ]
     },
     "metadata": {},
     "output_type": "display_data"
    },
    {
     "name": "stdout",
     "output_type": "stream",
     "text": [
      "RandomForest {'n_estimators': 400, 'max_depth': 10, 'min_samples_split': 6, 'min_samples_leaf': 5}\n",
      "GARCH estimates: mu         -0.130478\n",
      "omega       0.802847\n",
      "alpha[1]    0.119408\n",
      "beta[1]     0.858346\n",
      "Name: params, dtype: float64\n",
      "GJR estimates: mu         -0.085877\n",
      "omega       0.849500\n",
      "alpha[1]    0.143828\n",
      "gamma[1]   -0.041087\n",
      "beta[1]     0.853303\n",
      "Name: params, dtype: float64\n",
      "rmse {'LLF': 0.10596767606638481, 'RF': 1.067258658880269, 'GARCH': 4.166364671365065, 'GJR': 4.163997256791119, 'HAR-RV': 3.7247971850811714}\n",
      "qlike {'LLF': 0.0006932141850227527, 'RF': 0.010937914685072018, 'GARCH': 0.5832592130640931, 'GJR': 0.5825595647181323, 'HAR-RV': 0.3126449045904578}\n",
      "counts {'LLF': 7, 'RF': 1, 'GARCH': 0, 'GJR': 0, 'HAR-RV': 0} {'LLF': 6, 'RF': 2, 'GARCH': 0, 'GJR': 0, 'HAR-RV': 0} {'LLF': 5, 'RF': 4, 'GARCH': 0, 'GJR': 0, 'HAR-RV': 0} {'LLF': 5, 'RF': 4, 'GARCH': 0, 'GJR': 0, 'HAR-RV': 0}\n",
      "Polygon\n",
      "\n"
     ]
    },
    {
     "data": {
      "application/vnd.jupyter.widget-view+json": {
       "model_id": "9c5509baee48465db12c8be9c7234610",
       "version_major": 2,
       "version_minor": 0
      },
      "text/plain": [
       "  0%|          | 0/50 [00:00<?, ?it/s]"
      ]
     },
     "metadata": {},
     "output_type": "display_data"
    },
    {
     "name": "stdout",
     "output_type": "stream",
     "text": [
      "LocalLinearForest {'n_estimators': 200, 'max_depth': 8, 'min_samples_split': 7, 'min_samples_leaf': 4, 'lam': 0.1}\n",
      "\n"
     ]
    },
    {
     "data": {
      "application/vnd.jupyter.widget-view+json": {
       "model_id": "d48e2d94091a482bb4a484ce53ceb25f",
       "version_major": 2,
       "version_minor": 0
      },
      "text/plain": [
       "  0%|          | 0/50 [00:00<?, ?it/s]"
      ]
     },
     "metadata": {},
     "output_type": "display_data"
    },
    {
     "name": "stdout",
     "output_type": "stream",
     "text": [
      "RandomForest {'n_estimators': 100, 'max_depth': 9, 'min_samples_split': 9, 'min_samples_leaf': 2}\n",
      "GARCH estimates: mu         -0.008827\n",
      "omega       0.852973\n",
      "alpha[1]    0.132202\n",
      "beta[1]     0.842927\n",
      "Name: params, dtype: float64\n",
      "GJR estimates: mu         -0.005100\n",
      "omega       0.847115\n",
      "alpha[1]    0.134224\n",
      "gamma[1]   -0.004554\n",
      "beta[1]     0.843385\n",
      "Name: params, dtype: float64\n",
      "rmse {'LLF': 0.38005488704928053, 'RF': 0.6558616723212058, 'GARCH': 3.4141703779394272, 'GJR': 3.4141229383044362, 'HAR-RV': 3.30327957881331}\n",
      "qlike {'LLF': 0.007297256188757079, 'RF': 0.0073806709485041665, 'GARCH': 0.408734020016309, 'GJR': 0.408677398998186, 'HAR-RV': 0.3255837071643262}\n",
      "counts {'LLF': 8, 'RF': 1, 'GARCH': 0, 'GJR': 0, 'HAR-RV': 0} {'LLF': 7, 'RF': 2, 'GARCH': 0, 'GJR': 0, 'HAR-RV': 0} {'LLF': 6, 'RF': 5, 'GARCH': 0, 'GJR': 0, 'HAR-RV': 0} {'LLF': 6, 'RF': 5, 'GARCH': 0, 'GJR': 0, 'HAR-RV': 0}\n",
      "Large Cap Errors:\n",
      "{'LLF': {'RMSLE': 0.2793840789234562, 'std': 0.35253902182056246, 'skew': 12.478414027722245}, 'RF': {'RMSLE': 0.14691418274007637, 'std': 0.055006170961935025, 'skew': 11.996026195009826}, 'GJR': {'RMSLE': 0.6790383103458334, 'std': 0.8139739435928279, 'skew': 4.295284746755425}, 'GARCH': {'RMSLE': 0.677971008333152, 'std': 0.8158746824117006, 'skew': 4.2807470193805095}, 'HAR-RV': {'RMSLE': 0.734448395977112, 'std': 0.7036642804709542, 'skew': 3.1727069834281183}}\n",
      "\n",
      "Mid Cap Errors:\n",
      "{'LLF': {'RMSLE': 0.10234134742288467, 'std': 0.023428772609420157, 'skew': 4.68171938130127}, 'RF': {'RMSLE': 0.13987117788837977, 'std': 0.03806967520456772, 'skew': 6.78474243834933}, 'GJR': {'RMSLE': 0.7473802163906658, 'std': 0.6415292969300359, 'skew': 2.480402739894174}, 'GARCH': {'RMSLE': 0.746941988610254, 'std': 0.6401656831314152, 'skew': 2.4888272652540806}, 'HAR-RV': {'RMSLE': 0.6740997289670602, 'std': 0.6196714392466912, 'skew': 2.978640668668664}}\n",
      "RMSE Table:\n",
      "\\begin{tabular}{lrrrrr}\n",
      "\\toprule\n",
      "coin & LLF_rmse & RF_rmse & GARCH_rmse & GJR_rmse & HAR-RV_rmse \\\\\n",
      "\\midrule\n",
      "Bitcoin & 0.291 & 0.362 & 1.569 & 1.566 & 1.709 \\\\\n",
      "Ethereum & 0.313 & 0.506 & 2.112 & 2.108 & 2.155 \\\\\n",
      "Tether & 0.156 & 0.148 & 0.396 & 0.396 & 0.409 \\\\\n",
      "Binance Coin & 0.297 & 0.494 & 2.086 & 2.085 & 2.449 \\\\\n",
      "Bitcoin Cash & 0.272 & 0.639 & 2.824 & 2.831 & 2.766 \\\\\n",
      "Litecoin & 0.341 & 0.721 & 2.742 & 2.742 & 2.890 \\\\\n",
      "Internet Computer & 0.106 & 1.067 & 4.166 & 4.164 & 3.725 \\\\\n",
      "Polygon & 0.380 & 0.656 & 3.414 & 3.414 & 3.303 \\\\\n",
      "\\bottomrule\n",
      "\\end{tabular}\n",
      "\n",
      "MAE Table:\n",
      "\\begin{tabular}{lrrrrr}\n",
      "\\toprule\n",
      "coin & LLF_mae & RF_mae & GARCH_mae & GJR_mae & HAR-RV_mae \\\\\n",
      "\\midrule\n",
      "Bitcoin & 0.230 & 0.218 & 1.073 & 1.074 & 1.182 \\\\\n",
      "Ethereum & 0.246 & 0.309 & 1.419 & 1.427 & 1.452 \\\\\n",
      "Tether & 0.118 & 0.067 & 0.295 & 0.295 & 0.261 \\\\\n",
      "Binance Coin & 0.233 & 0.294 & 1.334 & 1.336 & 1.672 \\\\\n",
      "Bitcoin Cash & 0.213 & 0.435 & 1.897 & 1.903 & 1.772 \\\\\n",
      "Litecoin & 0.274 & 0.379 & 1.849 & 1.848 & 1.963 \\\\\n",
      "Internet Computer & 0.079 & 0.617 & 3.188 & 3.188 & 2.568 \\\\\n",
      "Polygon & 0.306 & 0.426 & 2.408 & 2.408 & 2.206 \\\\\n",
      "\\bottomrule\n",
      "\\end{tabular}\n",
      "\n",
      "QLIKE Table:\n",
      "\\begin{tabular}{lrrrrr}\n",
      "\\toprule\n",
      "coin & LLF_qlike & RF_qlike & GARCH_qlike & GJR_qlike & HAR-RV_qlike \\\\\n",
      "\\midrule\n",
      "Bitcoin & 0.035 & 0.007 & 0.210 & 0.210 & 0.286 \\\\\n",
      "Ethereum & 0.008 & 0.008 & 0.259 & 0.260 & 0.273 \\\\\n",
      "Tether & 0.090 & 0.018 & 0.256 & 0.256 & 0.450 \\\\\n",
      "Binance Coin & 0.009 & 0.008 & 0.257 & 0.258 & 0.546 \\\\\n",
      "Bitcoin Cash & 0.005 & 0.011 & 0.340 & 0.344 & 0.279 \\\\\n",
      "Litecoin & 0.007 & 0.008 & 0.337 & 0.337 & 0.424 \\\\\n",
      "Internet Computer & 0.001 & 0.011 & 0.583 & 0.583 & 0.313 \\\\\n",
      "Polygon & 0.007 & 0.007 & 0.409 & 0.409 & 0.326 \\\\\n",
      "\\bottomrule\n",
      "\\end{tabular}\n",
      "\n",
      "Utility Table:\n",
      "\\begin{tabular}{lrrrrr}\n",
      "\\toprule\n",
      "coin & LLF_utility & RF_utility & GARCH_utility & GJR_utility & HAR-RV_utility \\\\\n",
      "\\midrule\n",
      "Bitcoin & 3.907 & 3.987 & 3.531 & 3.531 & 3.342 \\\\\n",
      "Ethereum & 3.984 & 3.984 & 3.399 & 3.399 & 3.369 \\\\\n",
      "Tether & 3.844 & 3.966 & 3.585 & 3.585 & 2.936 \\\\\n",
      "Binance Coin & 3.983 & 3.984 & 3.396 & 3.394 & 2.664 \\\\\n",
      "Bitcoin Cash & 3.990 & 3.978 & 3.193 & 3.183 & 3.340 \\\\\n",
      "Litecoin & 3.986 & 3.984 & 3.199 & 3.200 & 2.977 \\\\\n",
      "Internet Computer & 3.999 & 3.978 & 2.594 & 2.596 & 3.261 \\\\\n",
      "Polygon & 3.986 & 3.985 & 3.027 & 3.027 & 3.229 \\\\\n",
      "\\bottomrule\n",
      "\\end{tabular}\n",
      "\n",
      "MCSR Table:\n",
      "\\begin{tabular}{lrrrrr}\n",
      "\\toprule\n",
      " & LLF & RF & GARCH & GJR & HAR-RV \\\\\n",
      "\\midrule\n",
      "RMSE & 1.000 & 0.125 & 0.000 & 0.000 & 0.000 \\\\\n",
      "MAE & 0.875 & 0.250 & 0.000 & 0.000 & 0.000 \\\\\n",
      "QLIKE & 0.750 & 0.625 & 0.000 & 0.000 & 0.000 \\\\\n",
      "Utility & 0.750 & 0.625 & 0.000 & 0.000 & 0.000 \\\\\n",
      "\\bottomrule\n",
      "\\end{tabular}\n",
      "\n"
     ]
    }
   ],
   "source": [
    "import sys\n",
    "import os\n",
    "import numpy as np\n",
    "import pandas as pd\n",
    "from IPython.utils import io\n",
    "#Adjust directories to own paths\n",
    "current_dir = os.path.dirname(r\"C:\\Users\\JNoot\\Documents\\University\\Bachelor Thesis\\New Code\\forecasting\\forecasts\")\n",
    "parent_dir = os.path.abspath(os.path.join(current_dir, os.pardir))\n",
    "sys.path.insert(0, parent_dir)\n",
    "sys.path.append(os.path.dirname(os.path.abspath(r\"C:\\Users\\JNoot\\Documents\\University\\Bachelor Thesis\\New Code\\forecasting\\forecasts\\perform_forecasts.ipynb\")) + '/..')\n",
    "\n",
    "\n",
    "from forecasting.data_preprocessing.obtain_data import obtainData\n",
    "from forecasting.forecasts.in_sample_forecasts import in_sample_forecast\n",
    "from forecasting.forecasts.out_of_sample_forecasts import forecast\n",
    "from forecasting.utils.squared_errors import get_errors\n",
    "from forecasting.utils.qlike import get_qlike\n",
    "from forecasting.utils.model_confidence_set import update_mcs_count\n",
    "from forecasting.utils.market_cycles import define_market_phases, cycle_errors, segment_data_by_phases, perform_kruskal, perform_dunn_test\n",
    "from forecasting.utils.large_mid_cap import get_grouped_errors, initialize_errors, collect_errors, compute_statistics\n",
    "from forecasting.utils.utility_benefits import expected_utility\n",
    "from scipy.stats import skew\n",
    "from tqdm import notebook\n",
    "\n",
    "\n",
    "def perform_models(coins, in_sample, training_size=0.7):\n",
    "    results = {\n",
    "        'coin': [],\n",
    "        'LLF_rmse': [], 'RF_rmse': [], 'GARCH_rmse': [], 'GJR_rmse': [], 'HAR-RV_rmse': [],\n",
    "        'LLF_mae': [], 'RF_mae': [], 'GARCH_mae': [], 'GJR_mae': [], 'HAR-RV_mae': [],\n",
    "        'LLF_qlike': [], 'RF_qlike': [], 'GARCH_qlike': [], 'GJR_qlike': [], 'HAR-RV_qlike': [],\n",
    "        'LLF_utility': [], 'RF_utility': [], 'GARCH_utility': [], 'GJR_utility': [], 'HAR-RV_utility': []\n",
    "    }\n",
    "\n",
    "    mcs_counts_rmse = {model: 0 for model in ['LLF', 'RF', 'GARCH', 'GJR', 'HAR-RV']}\n",
    "    mcs_counts_qlike = {model: 0 for model in ['LLF', 'RF', 'GARCH', 'GJR', 'HAR-RV']}\n",
    "    mcs_counts_utility = {model: 0 for model in ['LLF', 'RF', 'GARCH', 'GJR', 'HAR-RV']}\n",
    "    mcs_counts_mae = {model: 0 for model in ['LLF', 'RF', 'GARCH', 'GJR', 'HAR-RV']}\n",
    "    mcsr_rmse = {}\n",
    "    mcsr_qlike = {}\n",
    "    mcsr_utility = {}\n",
    "    mcsr_mae = {}\n",
    "\n",
    "    # Large vs. Mid cap.\n",
    "    large_cap_coins = [\"Bitcoin\", \"Ethereum\", \"Tether\", \"Binance Coin\"]\n",
    "    mid_cap_coins = [\"Bitcoin Cash\", \"Litecoin\", \"Internet Computer\", \"Polygon\"]\n",
    "    large_cap_errors = initialize_errors()\n",
    "    mid_cap_errors = initialize_errors()\n",
    "\n",
    "    for coin in notebook.tqdm(coins):\n",
    "        print(coin)\n",
    "        with io.capture_output() as captured:\n",
    "            X, Y, X_ridge = obtainData(coin)\n",
    "        if in_sample:\n",
    "            predictions, Y_test = in_sample_forecast(X, Y, X_ridge)\n",
    "        else:\n",
    "            predictions, Y_test = forecast(coin, X, Y, X_ridge, training_size)\n",
    "        \n",
    "        mse, mae, rmse = get_errors(predictions, Y_test)\n",
    "        qlike = get_qlike(predictions, Y_test)\n",
    "        utility = expected_utility(predictions, Y_test)\n",
    "\n",
    "        results['coin'].append(coin)\n",
    "        for metric, res_dict in zip(['rmse', 'mae', 'qlike', 'utility'], [rmse, mae, qlike, utility]):\n",
    "            for model in ['LLF', 'RF', 'GARCH', 'GJR', 'HAR-RV']:\n",
    "                results[f'{model}_{metric}'].append(res_dict[model])\n",
    "\n",
    "        mcs_counts_rmse, mcs_counts_mae, mcs_counts_qlike, mcs_counts_utility = update_mcs_count(\n",
    "            predictions, Y_test, mcs_counts_rmse=mcs_counts_rmse,  mcs_counts_mae= mcs_counts_mae, mcs_counts_qlike=mcs_counts_qlike, mcs_counts_utility=mcs_counts_utility\n",
    "        )\n",
    "\n",
    "        large_cap_errors, mid_cap_errors = collect_errors(predictions, Y_test, coin, large_cap_coins, mid_cap_coins, large_cap_errors, mid_cap_errors)\n",
    "\n",
    "        print('rmse', rmse)\n",
    "        print('qlike', qlike)\n",
    "        print('counts', mcs_counts_rmse, mcs_counts_mae, mcs_counts_qlike, mcs_counts_utility)\n",
    "        \n",
    "        if not in_sample:\n",
    "            # Define market phases\n",
    "            market_phases = define_market_phases(X['Close'])\n",
    "            total_errors = cycle_errors(predictions, Y_test)\n",
    "            errors_by_phase, phase_counts = segment_data_by_phases(total_errors, market_phases)\n",
    "\n",
    "            # Print the number of observations in each phase\n",
    "            print(\"Number of observations in each phase:\")\n",
    "            for phase, count in phase_counts.items():\n",
    "                print(f\"{phase}: {count}\")\n",
    "\n",
    "            if coin != 'Tether':\n",
    "                # Perform Kruskal-Wallis and Dunn's tests\n",
    "                kruskal_results = perform_kruskal(errors_by_phase)\n",
    "                dunn_results = perform_dunn_test(errors_by_phase)\n",
    "\n",
    "                # Print statistics, Kruskal-Wallis results, and Dunn's test results for each model\n",
    "                for model, phase_data in errors_by_phase.items():\n",
    "                    print(f\"Statistics for model {model} on coin {coin}:\")\n",
    "                    for phase, errors in phase_data.items():\n",
    "                        errors_array = np.array(errors)\n",
    "                        print(f\"{phase}:\")\n",
    "                        print(f\"  Mean: {np.mean(errors_array)}\")\n",
    "                        print(f\"  Standard Deviation: {np.std(errors_array)}\")\n",
    "                        print(f\"  Skewness: {skew(errors_array)}\")\n",
    "\n",
    "                    # Print Kruskal-Wallis results\n",
    "                    kruskal_result = kruskal_results[model]\n",
    "                    print(f\"\\nKruskal-Wallis results for model {model} on coin {coin}:\")\n",
    "                    print(f\"Statistic = {kruskal_result['stat']}, p-value = {kruskal_result['p_value']}\")\n",
    "\n",
    "                    # Print Dunn's test results\n",
    "                    dunn_result = dunn_results[model]\n",
    "                    print(f\"\\nDunn's test results for model {model} on coin {coin} (p-values):\")\n",
    "                    print(dunn_result)\n",
    "    \n",
    "    # Calculate MCSR\n",
    "    for model in predictions.keys():\n",
    "        mcsr_rmse[model] = mcs_counts_rmse[model] / len(coins)\n",
    "        mcsr_mae[model] = mcs_counts_mae[model] / len(coins)\n",
    "        mcsr_qlike[model] = mcs_counts_qlike[model] / len(coins)\n",
    "        mcsr_utility[model] = mcs_counts_utility[model] / len(coins)\n",
    "\n",
    "    results_df = pd.DataFrame(results)\n",
    "\n",
    "    large_cap_statistics = compute_statistics(large_cap_errors)\n",
    "    mid_cap_statistics = compute_statistics(mid_cap_errors)\n",
    "\n",
    "    print(\"Large Cap Errors:\")\n",
    "    print(large_cap_statistics)\n",
    "    print(\"\\nMid Cap Errors:\")\n",
    "    print(mid_cap_statistics)\n",
    "\n",
    "    # Generate and print LaTeX tables\n",
    "    latex_tables = {\n",
    "        'RMSE': results_df[['coin', 'LLF_rmse', 'RF_rmse', 'GARCH_rmse', 'GJR_rmse', 'HAR-RV_rmse']].to_latex(index=False, float_format=\"%.3f\"),\n",
    "        'MAE': results_df[['coin', 'LLF_mae', 'RF_mae', 'GARCH_mae', 'GJR_mae', 'HAR-RV_mae']].to_latex(index=False, float_format=\"%.3f\"),\n",
    "        'QLIKE': results_df[['coin', 'LLF_qlike', 'RF_qlike', 'GARCH_qlike', 'GJR_qlike', 'HAR-RV_qlike']].to_latex(index=False, float_format=\"%.3f\"),\n",
    "        'Utility': results_df[['coin', 'LLF_utility', 'RF_utility', 'GARCH_utility', 'GJR_utility', 'HAR-RV_utility']].to_latex(index=False, float_format=\"%.3f\"),\n",
    "        'MCSR': pd.DataFrame([mcsr_rmse, mcsr_mae, mcsr_qlike, mcsr_utility], index=['RMSE', 'MAE', 'QLIKE', 'Utility']).to_latex(float_format=\"%.3f\")\n",
    "    }\n",
    "    \n",
    "    #Save tables to results\n",
    "    current_dir = os.getcwd()\n",
    "    # Construct the path to the 'feature_importances' directory within 'results' in 'forecasting'\n",
    "    tables_dir = os.path.join(current_dir, \"..\", \"Results\", \"tables\")\n",
    "\n",
    "    for name, table in latex_tables.items():\n",
    "        feature = name.lower()\n",
    "        if in_sample:\n",
    "            save_path = os.path.join(tables_dir, f\"{feature}_in_sample.tex\")\n",
    "        else:\n",
    "            save_path = os.path.join(tables_dir, f\"{feature}_out-of_sample.tex\")\n",
    "        with open(save_path, 'w') as f:\n",
    "            f.write(table)\n",
    "\n",
    "    return latex_tables\n",
    "\n",
    "coins = [\"Bitcoin\", \"Ethereum\", \"Tether\", \"Binance Coin\", \"Bitcoin Cash\", \"Litecoin\", \"Internet Computer\", \"Polygon\"]\n",
    "\n",
    "#In-sample Forecasts\n",
    "latex_tables_in_sample = perform_models(coins, in_sample=True)\n",
    "for name, table in latex_tables_in_sample.items():\n",
    "    print(f\"{name} Table:\")\n",
    "    print(table)\n",
    "\n",
    "# Out-of-Sample Forecasts\n",
    "latex_tables_out_sample = perform_models(coins, in_sample=False, training_size=0.70)\n",
    "for name, table in latex_tables_out_sample.items():\n",
    "    print(f\"{name} Table:\")\n",
    "    print(table)"
   ]
  }
 ],
 "metadata": {
  "kernelspec": {
   "display_name": ".venv",
   "language": "python",
   "name": "python3"
  },
  "language_info": {
   "codemirror_mode": {
    "name": "ipython",
    "version": 3
   },
   "file_extension": ".py",
   "mimetype": "text/x-python",
   "name": "python",
   "nbconvert_exporter": "python",
   "pygments_lexer": "ipython3",
   "version": "3.12.2"
  }
 },
 "nbformat": 4,
 "nbformat_minor": 2
}

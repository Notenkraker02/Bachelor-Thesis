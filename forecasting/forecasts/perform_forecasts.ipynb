{
 "cells": [
  {
   "cell_type": "code",
   "execution_count": 3,
   "metadata": {},
   "outputs": [
    {
     "data": {
      "application/vnd.jupyter.widget-view+json": {
       "model_id": "3b8dae435ce24653844a725ce88a33ec",
       "version_major": 2,
       "version_minor": 0
      },
      "text/plain": [
       "  0%|          | 0/8 [00:00<?, ?it/s]"
      ]
     },
     "metadata": {},
     "output_type": "display_data"
    },
    {
     "name": "stdout",
     "output_type": "stream",
     "text": [
      "Bitcoin\n"
     ]
    },
    {
     "data": {
      "application/vnd.jupyter.widget-view+json": {
       "model_id": "c8aea8d41afc445b9082a8ed73989a71",
       "version_major": 2,
       "version_minor": 0
      },
      "text/plain": [
       "  0%|          | 0/100 [00:00<?, ?it/s]"
      ]
     },
     "metadata": {},
     "output_type": "display_data"
    },
    {
     "name": "stdout",
     "output_type": "stream",
     "text": [
      "LocalLinearForest {'n_estimators': 286, 'max_depth': 8, 'min_samples_split': 6, 'min_samples_leaf': 3, 'lam': 7.845052896673608}\n"
     ]
    },
    {
     "data": {
      "application/vnd.jupyter.widget-view+json": {
       "model_id": "02391ade036748949804032907f432f8",
       "version_major": 2,
       "version_minor": 0
      },
      "text/plain": [
       "  0%|          | 0/100 [00:00<?, ?it/s]"
      ]
     },
     "metadata": {},
     "output_type": "display_data"
    },
    {
     "ename": "KeyboardInterrupt",
     "evalue": "",
     "output_type": "error",
     "traceback": [
      "\u001b[1;31m---------------------------------------------------------------------------\u001b[0m",
      "\u001b[1;31mKeyboardInterrupt\u001b[0m                         Traceback (most recent call last)",
      "Cell \u001b[1;32mIn[3], line 119\u001b[0m\n\u001b[0;32m    116\u001b[0m coins \u001b[38;5;241m=\u001b[39m [\u001b[38;5;124m\"\u001b[39m\u001b[38;5;124mBitcoin\u001b[39m\u001b[38;5;124m\"\u001b[39m, \u001b[38;5;124m\"\u001b[39m\u001b[38;5;124mEthereum\u001b[39m\u001b[38;5;124m\"\u001b[39m, \u001b[38;5;124m\"\u001b[39m\u001b[38;5;124mTether\u001b[39m\u001b[38;5;124m\"\u001b[39m, \u001b[38;5;124m\"\u001b[39m\u001b[38;5;124mBinance Coin\u001b[39m\u001b[38;5;124m\"\u001b[39m, \u001b[38;5;124m\"\u001b[39m\u001b[38;5;124mBitcoin Cash\u001b[39m\u001b[38;5;124m\"\u001b[39m, \u001b[38;5;124m\"\u001b[39m\u001b[38;5;124mLitecoin\u001b[39m\u001b[38;5;124m\"\u001b[39m, \u001b[38;5;124m\"\u001b[39m\u001b[38;5;124mInternet Computer\u001b[39m\u001b[38;5;124m\"\u001b[39m, \u001b[38;5;124m\"\u001b[39m\u001b[38;5;124mPolygon\u001b[39m\u001b[38;5;124m\"\u001b[39m]\n\u001b[0;32m    118\u001b[0m \u001b[38;5;66;03m# In-sample Forecasts\u001b[39;00m\n\u001b[1;32m--> 119\u001b[0m latex_tables_in_sample \u001b[38;5;241m=\u001b[39m \u001b[43mperform_models\u001b[49m\u001b[43m(\u001b[49m\u001b[43mcoins\u001b[49m\u001b[43m,\u001b[49m\u001b[43m \u001b[49m\u001b[43min_sample\u001b[49m\u001b[38;5;241;43m=\u001b[39;49m\u001b[38;5;28;43;01mTrue\u001b[39;49;00m\u001b[43m)\u001b[49m\n\u001b[0;32m    120\u001b[0m \u001b[38;5;28;01mfor\u001b[39;00m name, table \u001b[38;5;129;01min\u001b[39;00m latex_tables_in_sample\u001b[38;5;241m.\u001b[39mitems():\n\u001b[0;32m    121\u001b[0m     \u001b[38;5;28mprint\u001b[39m(\u001b[38;5;124mf\u001b[39m\u001b[38;5;124m\"\u001b[39m\u001b[38;5;132;01m{\u001b[39;00mname\u001b[38;5;132;01m}\u001b[39;00m\u001b[38;5;124m Table:\u001b[39m\u001b[38;5;124m\"\u001b[39m)\n",
      "Cell \u001b[1;32mIn[3], line 42\u001b[0m, in \u001b[0;36mperform_models\u001b[1;34m(coins, in_sample, training_size)\u001b[0m\n\u001b[0;32m     40\u001b[0m     X, Y, X_ridge \u001b[38;5;241m=\u001b[39m obtainData(coin)\n\u001b[0;32m     41\u001b[0m \u001b[38;5;28;01mif\u001b[39;00m in_sample:\n\u001b[1;32m---> 42\u001b[0m     predictions, Y_test \u001b[38;5;241m=\u001b[39m \u001b[43min_sample_forecast\u001b[49m\u001b[43m(\u001b[49m\u001b[43mX\u001b[49m\u001b[43m,\u001b[49m\u001b[43m \u001b[49m\u001b[43mY\u001b[49m\u001b[43m,\u001b[49m\u001b[43m \u001b[49m\u001b[43mX_ridge\u001b[49m\u001b[43m)\u001b[49m\n\u001b[0;32m     43\u001b[0m \u001b[38;5;28;01melse\u001b[39;00m:\n\u001b[0;32m     44\u001b[0m     predictions, Y_test \u001b[38;5;241m=\u001b[39m forecast(X, Y, X_ridge, training_size)\n",
      "File \u001b[1;32m~\\Documents\\University\\Bachelor Thesis\\New Code\\forecasting\\forecasts\\in_sample_forecasts.py:43\u001b[0m, in \u001b[0;36min_sample_forecast\u001b[1;34m(X_complete, Y_complete, X_ridge)\u001b[0m\n\u001b[0;32m     40\u001b[0m predictions[\u001b[38;5;124m'\u001b[39m\u001b[38;5;124mLLF\u001b[39m\u001b[38;5;124m'\u001b[39m] \u001b[38;5;241m=\u001b[39m pd\u001b[38;5;241m.\u001b[39mSeries(LLF_pred, index\u001b[38;5;241m=\u001b[39mY_complete_dates)\n\u001b[0;32m     42\u001b[0m \u001b[38;5;66;03m# Random Forest\u001b[39;00m\n\u001b[1;32m---> 43\u001b[0m RF_parameters \u001b[38;5;241m=\u001b[39m hypertune_model(\u001b[38;5;124m\"\u001b[39m\u001b[38;5;124mRandomForest\u001b[39m\u001b[38;5;124m\"\u001b[39m, X_complete, Y_complete, n_trials \u001b[38;5;241m=\u001b[39m \u001b[38;5;241m50\u001b[39m)    \n\u001b[0;32m     44\u001b[0m RF_pred \u001b[38;5;241m=\u001b[39m train_test_rf(X_complete, Y_complete, X_complete, \u001b[38;5;241m*\u001b[39m\u001b[38;5;241m*\u001b[39mRF_parameters)\n\u001b[0;32m     45\u001b[0m predictions[\u001b[38;5;124m'\u001b[39m\u001b[38;5;124mRF\u001b[39m\u001b[38;5;124m'\u001b[39m] \u001b[38;5;241m=\u001b[39m pd\u001b[38;5;241m.\u001b[39mSeries(RF_pred, index\u001b[38;5;241m=\u001b[39mY_complete_dates)\n",
      "File \u001b[1;32m~\\Documents\\University\\Bachelor Thesis\\New Code\\forecasting\\hypertuning\\hypertuning.py:40\u001b[0m, in \u001b[0;36mhypertune_model\u001b[1;34m(model_name, X_train, Y_train, X_ridge, n_trials)\u001b[0m\n\u001b[0;32m     38\u001b[0m study \u001b[38;5;241m=\u001b[39m optuna\u001b[38;5;241m.\u001b[39mcreate_study(direction\u001b[38;5;241m=\u001b[39m\u001b[38;5;124m'\u001b[39m\u001b[38;5;124mminimize\u001b[39m\u001b[38;5;124m'\u001b[39m, pruner\u001b[38;5;241m=\u001b[39mSuccessiveHalvingPruner(), sampler\u001b[38;5;241m=\u001b[39mTPESampler(seed \u001b[38;5;241m=\u001b[39m \u001b[38;5;241m42\u001b[39m))\n\u001b[0;32m     39\u001b[0m optuna\u001b[38;5;241m.\u001b[39mlogging\u001b[38;5;241m.\u001b[39mset_verbosity(optuna\u001b[38;5;241m.\u001b[39mlogging\u001b[38;5;241m.\u001b[39mWARNING)\n\u001b[1;32m---> 40\u001b[0m \u001b[43mstudy\u001b[49m\u001b[38;5;241;43m.\u001b[39;49m\u001b[43moptimize\u001b[49m\u001b[43m(\u001b[49m\u001b[38;5;28;43;01mlambda\u001b[39;49;00m\u001b[43m \u001b[49m\u001b[43mtrial\u001b[49m\u001b[43m:\u001b[49m\u001b[43m \u001b[49m\u001b[43mobjective\u001b[49m\u001b[43m(\u001b[49m\u001b[43mtrial\u001b[49m\u001b[43m,\u001b[49m\u001b[43m \u001b[49m\u001b[43mmodel_name\u001b[49m\u001b[43m,\u001b[49m\u001b[43m \u001b[49m\u001b[43mX_train\u001b[49m\u001b[43m,\u001b[49m\u001b[43m \u001b[49m\u001b[43mY_train\u001b[49m\u001b[43m,\u001b[49m\u001b[43m \u001b[49m\u001b[43mX_ridge\u001b[49m\u001b[43m)\u001b[49m\u001b[43m,\u001b[49m\u001b[43m \u001b[49m\u001b[43mn_trials\u001b[49m\u001b[38;5;241;43m=\u001b[39;49m\u001b[43mn_trials\u001b[49m\u001b[43m,\u001b[49m\u001b[43m \u001b[49m\u001b[43mshow_progress_bar\u001b[49m\u001b[38;5;241;43m=\u001b[39;49m\u001b[38;5;28;43;01mTrue\u001b[39;49;00m\u001b[43m,\u001b[49m\u001b[43m \u001b[49m\u001b[43mn_jobs\u001b[49m\u001b[43m \u001b[49m\u001b[38;5;241;43m=\u001b[39;49m\u001b[38;5;241;43m-\u001b[39;49m\u001b[38;5;241;43m1\u001b[39;49m\u001b[43m)\u001b[49m\n\u001b[0;32m     41\u001b[0m best_params \u001b[38;5;241m=\u001b[39m study\u001b[38;5;241m.\u001b[39mbest_params\n\u001b[0;32m     42\u001b[0m \u001b[38;5;28mprint\u001b[39m(model_name, best_params)\n",
      "File \u001b[1;32mc:\\Users\\JNoot\\Documents\\University\\Bachelor Thesis\\New Code\\.venv\\Lib\\site-packages\\optuna\\study\\study.py:451\u001b[0m, in \u001b[0;36mStudy.optimize\u001b[1;34m(self, func, n_trials, timeout, n_jobs, catch, callbacks, gc_after_trial, show_progress_bar)\u001b[0m\n\u001b[0;32m    348\u001b[0m \u001b[38;5;28;01mdef\u001b[39;00m \u001b[38;5;21moptimize\u001b[39m(\n\u001b[0;32m    349\u001b[0m     \u001b[38;5;28mself\u001b[39m,\n\u001b[0;32m    350\u001b[0m     func: ObjectiveFuncType,\n\u001b[1;32m   (...)\u001b[0m\n\u001b[0;32m    357\u001b[0m     show_progress_bar: \u001b[38;5;28mbool\u001b[39m \u001b[38;5;241m=\u001b[39m \u001b[38;5;28;01mFalse\u001b[39;00m,\n\u001b[0;32m    358\u001b[0m ) \u001b[38;5;241m-\u001b[39m\u001b[38;5;241m>\u001b[39m \u001b[38;5;28;01mNone\u001b[39;00m:\n\u001b[0;32m    359\u001b[0m \u001b[38;5;250m    \u001b[39m\u001b[38;5;124;03m\"\"\"Optimize an objective function.\u001b[39;00m\n\u001b[0;32m    360\u001b[0m \n\u001b[0;32m    361\u001b[0m \u001b[38;5;124;03m    Optimization is done by choosing a suitable set of hyperparameter values from a given\u001b[39;00m\n\u001b[1;32m   (...)\u001b[0m\n\u001b[0;32m    449\u001b[0m \u001b[38;5;124;03m            If nested invocation of this method occurs.\u001b[39;00m\n\u001b[0;32m    450\u001b[0m \u001b[38;5;124;03m    \"\"\"\u001b[39;00m\n\u001b[1;32m--> 451\u001b[0m     \u001b[43m_optimize\u001b[49m\u001b[43m(\u001b[49m\n\u001b[0;32m    452\u001b[0m \u001b[43m        \u001b[49m\u001b[43mstudy\u001b[49m\u001b[38;5;241;43m=\u001b[39;49m\u001b[38;5;28;43mself\u001b[39;49m\u001b[43m,\u001b[49m\n\u001b[0;32m    453\u001b[0m \u001b[43m        \u001b[49m\u001b[43mfunc\u001b[49m\u001b[38;5;241;43m=\u001b[39;49m\u001b[43mfunc\u001b[49m\u001b[43m,\u001b[49m\n\u001b[0;32m    454\u001b[0m \u001b[43m        \u001b[49m\u001b[43mn_trials\u001b[49m\u001b[38;5;241;43m=\u001b[39;49m\u001b[43mn_trials\u001b[49m\u001b[43m,\u001b[49m\n\u001b[0;32m    455\u001b[0m \u001b[43m        \u001b[49m\u001b[43mtimeout\u001b[49m\u001b[38;5;241;43m=\u001b[39;49m\u001b[43mtimeout\u001b[49m\u001b[43m,\u001b[49m\n\u001b[0;32m    456\u001b[0m \u001b[43m        \u001b[49m\u001b[43mn_jobs\u001b[49m\u001b[38;5;241;43m=\u001b[39;49m\u001b[43mn_jobs\u001b[49m\u001b[43m,\u001b[49m\n\u001b[0;32m    457\u001b[0m \u001b[43m        \u001b[49m\u001b[43mcatch\u001b[49m\u001b[38;5;241;43m=\u001b[39;49m\u001b[38;5;28;43mtuple\u001b[39;49m\u001b[43m(\u001b[49m\u001b[43mcatch\u001b[49m\u001b[43m)\u001b[49m\u001b[43m \u001b[49m\u001b[38;5;28;43;01mif\u001b[39;49;00m\u001b[43m \u001b[49m\u001b[38;5;28;43misinstance\u001b[39;49m\u001b[43m(\u001b[49m\u001b[43mcatch\u001b[49m\u001b[43m,\u001b[49m\u001b[43m \u001b[49m\u001b[43mIterable\u001b[49m\u001b[43m)\u001b[49m\u001b[43m \u001b[49m\u001b[38;5;28;43;01melse\u001b[39;49;00m\u001b[43m \u001b[49m\u001b[43m(\u001b[49m\u001b[43mcatch\u001b[49m\u001b[43m,\u001b[49m\u001b[43m)\u001b[49m\u001b[43m,\u001b[49m\n\u001b[0;32m    458\u001b[0m \u001b[43m        \u001b[49m\u001b[43mcallbacks\u001b[49m\u001b[38;5;241;43m=\u001b[39;49m\u001b[43mcallbacks\u001b[49m\u001b[43m,\u001b[49m\n\u001b[0;32m    459\u001b[0m \u001b[43m        \u001b[49m\u001b[43mgc_after_trial\u001b[49m\u001b[38;5;241;43m=\u001b[39;49m\u001b[43mgc_after_trial\u001b[49m\u001b[43m,\u001b[49m\n\u001b[0;32m    460\u001b[0m \u001b[43m        \u001b[49m\u001b[43mshow_progress_bar\u001b[49m\u001b[38;5;241;43m=\u001b[39;49m\u001b[43mshow_progress_bar\u001b[49m\u001b[43m,\u001b[49m\n\u001b[0;32m    461\u001b[0m \u001b[43m    \u001b[49m\u001b[43m)\u001b[49m\n",
      "File \u001b[1;32mc:\\Users\\JNoot\\Documents\\University\\Bachelor Thesis\\New Code\\.venv\\Lib\\site-packages\\optuna\\study\\_optimize.py:96\u001b[0m, in \u001b[0;36m_optimize\u001b[1;34m(study, func, n_trials, timeout, n_jobs, catch, callbacks, gc_after_trial, show_progress_bar)\u001b[0m\n\u001b[0;32m     93\u001b[0m     \u001b[38;5;28;01mbreak\u001b[39;00m\n\u001b[0;32m     95\u001b[0m \u001b[38;5;28;01mif\u001b[39;00m \u001b[38;5;28mlen\u001b[39m(futures) \u001b[38;5;241m>\u001b[39m\u001b[38;5;241m=\u001b[39m n_jobs:\n\u001b[1;32m---> 96\u001b[0m     completed, futures \u001b[38;5;241m=\u001b[39m \u001b[43mwait\u001b[49m\u001b[43m(\u001b[49m\u001b[43mfutures\u001b[49m\u001b[43m,\u001b[49m\u001b[43m \u001b[49m\u001b[43mreturn_when\u001b[49m\u001b[38;5;241;43m=\u001b[39;49m\u001b[43mFIRST_COMPLETED\u001b[49m\u001b[43m)\u001b[49m\n\u001b[0;32m     97\u001b[0m     \u001b[38;5;66;03m# Raise if exception occurred in executing the completed futures.\u001b[39;00m\n\u001b[0;32m     98\u001b[0m     \u001b[38;5;28;01mfor\u001b[39;00m f \u001b[38;5;129;01min\u001b[39;00m completed:\n",
      "File \u001b[1;32m~\\AppData\\Local\\Programs\\Python\\Python312\\Lib\\concurrent\\futures\\_base.py:305\u001b[0m, in \u001b[0;36mwait\u001b[1;34m(fs, timeout, return_when)\u001b[0m\n\u001b[0;32m    301\u001b[0m         \u001b[38;5;28;01mreturn\u001b[39;00m DoneAndNotDoneFutures(done, not_done)\n\u001b[0;32m    303\u001b[0m     waiter \u001b[38;5;241m=\u001b[39m _create_and_install_waiters(fs, return_when)\n\u001b[1;32m--> 305\u001b[0m \u001b[43mwaiter\u001b[49m\u001b[38;5;241;43m.\u001b[39;49m\u001b[43mevent\u001b[49m\u001b[38;5;241;43m.\u001b[39;49m\u001b[43mwait\u001b[49m\u001b[43m(\u001b[49m\u001b[43mtimeout\u001b[49m\u001b[43m)\u001b[49m\n\u001b[0;32m    306\u001b[0m \u001b[38;5;28;01mfor\u001b[39;00m f \u001b[38;5;129;01min\u001b[39;00m fs:\n\u001b[0;32m    307\u001b[0m     \u001b[38;5;28;01mwith\u001b[39;00m f\u001b[38;5;241m.\u001b[39m_condition:\n",
      "File \u001b[1;32m~\\AppData\\Local\\Programs\\Python\\Python312\\Lib\\threading.py:655\u001b[0m, in \u001b[0;36mEvent.wait\u001b[1;34m(self, timeout)\u001b[0m\n\u001b[0;32m    653\u001b[0m signaled \u001b[38;5;241m=\u001b[39m \u001b[38;5;28mself\u001b[39m\u001b[38;5;241m.\u001b[39m_flag\n\u001b[0;32m    654\u001b[0m \u001b[38;5;28;01mif\u001b[39;00m \u001b[38;5;129;01mnot\u001b[39;00m signaled:\n\u001b[1;32m--> 655\u001b[0m     signaled \u001b[38;5;241m=\u001b[39m \u001b[38;5;28;43mself\u001b[39;49m\u001b[38;5;241;43m.\u001b[39;49m\u001b[43m_cond\u001b[49m\u001b[38;5;241;43m.\u001b[39;49m\u001b[43mwait\u001b[49m\u001b[43m(\u001b[49m\u001b[43mtimeout\u001b[49m\u001b[43m)\u001b[49m\n\u001b[0;32m    656\u001b[0m \u001b[38;5;28;01mreturn\u001b[39;00m signaled\n",
      "File \u001b[1;32m~\\AppData\\Local\\Programs\\Python\\Python312\\Lib\\threading.py:355\u001b[0m, in \u001b[0;36mCondition.wait\u001b[1;34m(self, timeout)\u001b[0m\n\u001b[0;32m    353\u001b[0m \u001b[38;5;28;01mtry\u001b[39;00m:    \u001b[38;5;66;03m# restore state no matter what (e.g., KeyboardInterrupt)\u001b[39;00m\n\u001b[0;32m    354\u001b[0m     \u001b[38;5;28;01mif\u001b[39;00m timeout \u001b[38;5;129;01mis\u001b[39;00m \u001b[38;5;28;01mNone\u001b[39;00m:\n\u001b[1;32m--> 355\u001b[0m         \u001b[43mwaiter\u001b[49m\u001b[38;5;241;43m.\u001b[39;49m\u001b[43macquire\u001b[49m\u001b[43m(\u001b[49m\u001b[43m)\u001b[49m\n\u001b[0;32m    356\u001b[0m         gotit \u001b[38;5;241m=\u001b[39m \u001b[38;5;28;01mTrue\u001b[39;00m\n\u001b[0;32m    357\u001b[0m     \u001b[38;5;28;01melse\u001b[39;00m:\n",
      "\u001b[1;31mKeyboardInterrupt\u001b[0m: "
     ]
    }
   ],
   "source": [
    "import sys\n",
    "import os\n",
    "import numpy as np\n",
    "import pandas as pd\n",
    "from IPython.utils import io\n",
    "current_dir = os.path.dirname(r\"C:\\Users\\JNoot\\Documents\\University\\Bachelor Thesis\\New Code\\forecasting\\forecasts\")\n",
    "parent_dir = os.path.abspath(os.path.join(current_dir, os.pardir))\n",
    "sys.path.insert(0, parent_dir)\n",
    "sys.path.append(os.path.dirname(os.path.abspath(r\"C:\\Users\\JNoot\\Documents\\University\\Bachelor Thesis\\New Code\\forecasting\\forecasts\\perform_forecasts.ipynb\")) + '/..')\n",
    "\n",
    "from forecasting.data_preprocessing.obtain_data import obtainData\n",
    "from forecasting.forecasts.in_sample_forecasts import in_sample_forecast\n",
    "from forecasting.forecasts.out_of_sample_forecasts import forecast\n",
    "from forecasting.utils.squared_errors import get_errors\n",
    "from forecasting.utils.qlike import get_qlike\n",
    "from forecasting.utils.model_confidence_set import update_mcs_count\n",
    "from forecasting.utils.market_cycles import define_market_phases, cycle_errors, segment_data_by_phases, perform_kruskal, perform_dunn_test\n",
    "from large_mid_cap import get_grouped_errors, initialize_errors, collect_errors, compute_statistics\n",
    "from scipy.stats import skew\n",
    "from tqdm import notebook\n",
    "\n",
    "\n",
    "def perform_models(coins, in_sample, training_size=0.7):\n",
    "    results = {\n",
    "        'coin': [],\n",
    "        'LLF_rmse': [], 'RF_rmse': [], 'GARCH_rmse': [], 'GJR_rmse': [], 'HAR-RV_rmse': [],\n",
    "        'LLF_mae': [], 'RF_mae': [], 'GARCH_mae': [], 'GJR_mae': [], 'HAR-RV_mae': [],\n",
    "        'LLF_qlike': [], 'RF_qlike': [], 'GARCH_qlike': [], 'GJR_qlike': [], 'HAR-RV_qlike': []\n",
    "    }\n",
    "\n",
    "    mcs_counts_rmse = {model: 0 for model in ['LLF', 'RF', 'GARCH', 'GJR', 'HAR-RV']}\n",
    "    mcs_counts_qlike = {model: 0 for model in ['LLF', 'RF', 'GARCH', 'GJR', 'HAR-RV']}\n",
    "    mcs_counts_utility = {model: 0 for model in ['LLF', 'RF', 'GARCH', 'GJR', 'HAR-RV']}\n",
    "    mcsr_rmse = {}\n",
    "    mcsr_qlike = {}\n",
    "    mcsr_utility = {}\n",
    "\n",
    "    # Large vs. Mid cap.\n",
    "    large_cap_coins = [\"Bitcoin\", \"Ethereum\", \"Tether\", \"Binance Coin\"]\n",
    "    mid_cap_coins = [\"Bitcoin Cash\", \"Litecoin\", \"Internet Computer\", \"Polygon\"]\n",
    "    large_cap_errors = initialize_errors()\n",
    "    mid_cap_errors = initialize_errors()\n",
    "\n",
    "    for coin in notebook.tqdm(coins):\n",
    "        print(coin)\n",
    "        with io.capture_output() as captured:\n",
    "            X, Y, X_ridge = obtainData(coin)\n",
    "        if in_sample:\n",
    "            predictions, Y_test = in_sample_forecast(X, Y, X_ridge)\n",
    "        else:\n",
    "            predictions, Y_test = forecast(X, Y, X_ridge, training_size)\n",
    "        \n",
    "        mse, mae, rmse = get_errors(predictions, Y_test)\n",
    "        qlike = get_qlike(predictions, Y_test)\n",
    "\n",
    "        results['coin'].append(coin)\n",
    "        for metric, res_dict in zip(['rmse', 'mae', 'qlike'], [rmse, mae, qlike]):\n",
    "            for model in ['LLF', 'RF', 'GARCH', 'GJR', 'HAR-RV']:\n",
    "                results[f'{model}_{metric}'].append(res_dict[model])\n",
    "\n",
    "        mcs_counts_rmse, mcs_counts_qlike, mcs_counts_utility = update_mcs_count(\n",
    "            predictions, Y_test, mcs_counts_rmse=mcs_counts_rmse, mcs_counts_qlike=mcs_counts_qlike, mcs_counts_utility=mcs_counts_utility\n",
    "        )\n",
    "\n",
    "        collect_errors(predictions, Y_test, coin, large_cap_coins, mid_cap_coins, large_cap_errors, mid_cap_errors)\n",
    "        large_cap_statistics, mid_cap_statistics = compute_statistics(large_cap_errors), compute_statistics(mid_cap_errors)\n",
    "\n",
    "        print(\"Large Cap Errors:\")\n",
    "        print(large_cap_statistics)\n",
    "        print(\"\\nMid Cap Errors:\")\n",
    "        print(mid_cap_statistics)\n",
    "\n",
    "        print('rmse', rmse)\n",
    "        print('qlike', qlike)\n",
    "        print('counts', mcs_counts_rmse, mcs_counts_qlike, mcs_counts_utility)\n",
    "        \n",
    "        if not in_sample:\n",
    "            # Define market phases\n",
    "            market_phases = define_market_phases(X['Close'])\n",
    "            total_errors = cycle_errors(predictions, Y_test)\n",
    "            errors_by_phase, phase_counts = segment_data_by_phases(total_errors, market_phases)\n",
    "\n",
    "            # Print the number of observations in each phase\n",
    "            print(\"Number of observations in each phase:\")\n",
    "            for phase, count in phase_counts.items():\n",
    "                print(f\"{phase}: {count}\")\n",
    "\n",
    "            if coin != 'Tether':\n",
    "                # Perform Kruskal-Wallis and Dunn's tests\n",
    "                kruskal_results = perform_kruskal(errors_by_phase)\n",
    "                dunn_results = perform_dunn_test(errors_by_phase)\n",
    "\n",
    "                # Print statistics, Kruskal-Wallis results, and Dunn's test results for each model\n",
    "                for model, phase_data in errors_by_phase.items():\n",
    "                    print(f\"Statistics for model {model} on coin {coin}:\")\n",
    "                    for phase, errors in phase_data.items():\n",
    "                        errors_array = np.array(errors)\n",
    "                        print(f\"{phase}:\")\n",
    "                        print(f\"  Mean: {np.mean(errors_array)}\")\n",
    "                        print(f\"  Standard Deviation: {np.std(errors_array)}\")\n",
    "                        print(f\"  Skewness: {skew(errors_array)}\")\n",
    "\n",
    "                    # Print Kruskal-Wallis results\n",
    "                    kruskal_result = kruskal_results[model]\n",
    "                    print(f\"\\nKruskal-Wallis results for model {model} on coin {coin}:\")\n",
    "                    print(f\"Statistic = {kruskal_result['stat']}, p-value = {kruskal_result['p_value']}\")\n",
    "\n",
    "                    # Print Dunn's test results\n",
    "                    dunn_result = dunn_results[model]\n",
    "                    print(f\"\\nDunn's test results for model {model} on coin {coin} (p-values):\")\n",
    "                    print(dunn_result)\n",
    "    \n",
    "    # Calculate MCSR\n",
    "    for model in predictions.keys():\n",
    "        mcsr_rmse[model] = mcs_counts_rmse[model] / len(coins)\n",
    "        mcsr_qlike[model] = mcs_counts_qlike[model] / len(coins)\n",
    "        mcsr_utility[model] = mcs_counts_utility[model] / len(coins)\n",
    "\n",
    "    results_df = pd.DataFrame(results)\n",
    "\n",
    "    # Generate and print LaTeX tables\n",
    "    latex_tables = {\n",
    "        'RMSE': results_df[['coin', 'LLF_rmse', 'RF_rmse', 'GARCH_rmse', 'GJR_rmse', 'HAR-RV_rmse']].to_latex(index=False, float_format=\"%.3f\"),\n",
    "        'MAE': results_df[['coin', 'LLF_mae', 'RF_mae', 'GARCH_mae', 'GJR_mae', 'HAR-RV_mae']].to_latex(index=False, float_format=\"%.3f\"),\n",
    "        'QLIKE': results_df[['coin', 'LLF_qlike', 'RF_qlike', 'GARCH_qlike', 'GJR_qlike', 'HAR-RV_qlike']].to_latex(index=False, float_format=\"%.3f\"),\n",
    "        'MCS Counts': pd.DataFrame([mcsr_rmse, mcsr_qlike, mcsr_utility], index=['RMSE', 'QLIKE', 'Utility']).to_latex(float_format=\"%.3f\")\n",
    "    }\n",
    "    \n",
    "    return latex_tables\n",
    "\n",
    "coins = [\"Bitcoin\", \"Ethereum\", \"Tether\", \"Binance Coin\", \"Bitcoin Cash\", \"Litecoin\", \"Internet Computer\", \"Polygon\"]\n",
    "\n",
    "# In-sample Forecasts\n",
    "latex_tables_in_sample = perform_models(coins, in_sample=True)\n",
    "for name, table in latex_tables_in_sample.items():\n",
    "    print(f\"{name} Table:\")\n",
    "    print(table)\n",
    "\n",
    "# Out-of-Sample Forecasts\n",
    "latex_tables_out_sample = perform_models(coins, in_sample=False, training_size=0.70)\n",
    "for name, table in latex_tables_out_sample.items():\n",
    "    print(f\"{name} Table:\")\n",
    "    print(table)"
   ]
  }
 ],
 "metadata": {
  "kernelspec": {
   "display_name": ".venv",
   "language": "python",
   "name": "python3"
  },
  "language_info": {
   "codemirror_mode": {
    "name": "ipython",
    "version": 3
   },
   "file_extension": ".py",
   "mimetype": "text/x-python",
   "name": "python",
   "nbconvert_exporter": "python",
   "pygments_lexer": "ipython3",
   "version": "3.12.2"
  }
 },
 "nbformat": 4,
 "nbformat_minor": 2
}

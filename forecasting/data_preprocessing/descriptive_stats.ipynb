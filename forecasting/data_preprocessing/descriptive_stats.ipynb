{
 "cells": [
  {
   "cell_type": "code",
   "execution_count": 1,
   "metadata": {},
   "outputs": [
    {
     "name": "stdout",
     "output_type": "stream",
     "text": [
      "Bitcoin\n",
      "Ethereum\n",
      "Tether\n",
      "Binance Coin\n",
      "Bitcoin Cash\n",
      "Litecoin\n",
      "Internet Computer\n",
      "Polygon\n",
      "\\begin{tabular}{lrrrrrrrr}\n",
      "\\toprule\n",
      "Coin & Mean Returns & Median Returns & Highest Returns & Lowest Returns & Standard Deviation of Returns & Skewness of Returns & Kurtosis of Returns & Number of Observations \\\\\n",
      "\\midrule\n",
      "Bitcoin & 0.073 & 0.055 & 13.144 & -15.828 & 2.891 & -0.331 & 3.569 & 1056 \\\\\n",
      "Ethereum & 0.063 & 0.060 & 16.249 & -18.353 & 3.608 & -0.301 & 3.624 & 1056 \\\\\n",
      "Tether & -0.008 & 0.000 & 2.062 & -1.739 & 0.464 & 0.144 & 1.838 & 1056 \\\\\n",
      "Binance Coin & 0.068 & 0.094 & 15.795 & -19.975 & 3.303 & -0.511 & 4.731 & 1056 \\\\\n",
      "Bitcoin Cash & 0.002 & -0.050 & 46.024 & -18.295 & 4.452 & 1.417 & 15.172 & 1056 \\\\\n",
      "Litecoin & -0.036 & 0.084 & 24.176 & -21.283 & 4.086 & -0.229 & 4.153 & 1056 \\\\\n",
      "Internet Computer & -0.104 & -0.011 & 33.734 & -35.497 & 5.455 & 0.325 & 5.438 & 1056 \\\\\n",
      "Polygon & -0.029 & -0.110 & 29.900 & -28.212 & 5.226 & 0.252 & 4.352 & 1056 \\\\\n",
      "\\bottomrule\n",
      "\\end{tabular}\n",
      "\n"
     ]
    }
   ],
   "source": [
    "import sys\n",
    "import os\n",
    "#Adjust directories to own paths\n",
    "current_dir = os.path.dirname(r\"C:\\Users\\JNoot\\Documents\\University\\Bachelor Thesis\\New Code\\forecasting\\forecasts\")\n",
    "parent_dir = os.path.abspath(os.path.join(current_dir, os.pardir))\n",
    "sys.path.insert(0, parent_dir)\n",
    "sys.path.append(os.path.dirname(os.path.abspath(r\"C:\\Users\\JNoot\\Documents\\University\\Bachelor Thesis\\New Code\\forecasting\\forecasts\\perform_forecasts.ipynb\")) + '/..')\n",
    "\n",
    "import numpy as np\n",
    "import pandas as pd\n",
    "from obtain_data import obtainData\n",
    "\n",
    "\n",
    "\n",
    "def calculate_descriptive_statistics(data):\n",
    "    data['returns'] = np.log(data['Close'] / data['Close'].shift(1)).dropna()\n",
    "    data['returns'] = data['returns']*100\n",
    "    descriptive_stats = {\n",
    "        'Mean Returns': data['returns'].mean(),\n",
    "        'Median Returns': data['returns'].median(),\n",
    "        'Highest Returns': data['returns'].max(),\n",
    "        'Lowest Returns': data['returns'].min(),\n",
    "        'Standard Deviation of Returns': data['returns'].std(),\n",
    "        'Skewness of Returns': data['returns'].skew(),\n",
    "        'Kurtosis of Returns': data['returns'].kurt(),\n",
    "        'Number of Observations': data['returns'].count()\n",
    "    }\n",
    "    return pd.DataFrame(descriptive_stats, index=[0])\n",
    "\n",
    "coins = [\"Bitcoin\", \"Ethereum\", \"Tether\", \"Binance Coin\", \"Bitcoin Cash\", \"Litecoin\", \"Internet Computer\", \"Polygon\"]\n",
    "all_descriptive_stats = pd.DataFrame()\n",
    "\n",
    "for coin in coins:\n",
    "    X, Y, X_ridge = obtainData(coin)\n",
    "    descript_stats = calculate_descriptive_statistics(X)\n",
    "    descript_stats['Coin'] = coin\n",
    "    all_descriptive_stats = pd.concat([all_descriptive_stats, descript_stats], ignore_index=True)\n",
    "\n",
    "all_descriptive_stats = all_descriptive_stats[['Coin'] + [col for col in all_descriptive_stats.columns if col != 'Coin']]\n",
    "\n",
    "# Print the DataFrame as a LaTeX table\n",
    "print(all_descriptive_stats.to_latex(index=False, float_format=\"%.3f\"))"
   ]
  }
 ],
 "metadata": {
  "kernelspec": {
   "display_name": ".venv",
   "language": "python",
   "name": "python3"
  },
  "language_info": {
   "codemirror_mode": {
    "name": "ipython",
    "version": 3
   },
   "file_extension": ".py",
   "mimetype": "text/x-python",
   "name": "python",
   "nbconvert_exporter": "python",
   "pygments_lexer": "ipython3",
   "version": "3.12.2"
  }
 },
 "nbformat": 4,
 "nbformat_minor": 2
}
